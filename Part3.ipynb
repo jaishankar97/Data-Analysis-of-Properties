{
 "cells": [
  {
   "cell_type": "markdown",
   "metadata": {},
   "source": [
    "# Part3: NEW YORK REAL ESTATE DATA ANALYTICS"
   ]
  },
  {
   "cell_type": "code",
   "execution_count": 1,
   "metadata": {},
   "outputs": [
    {
     "name": "stdout",
     "output_type": "stream",
     "text": [
      "HTTP GET request to URL: https://www.zillow.com/new-york-ny/fsbo/2_p/ | Status code: 200\n",
      "HTTP GET request to URL: https://www.zillow.com/new-york-ny/fsbo/2_p/ | Status code: 200\n",
      "HTTP GET request to URL: https://www.zillow.com/new-york-ny/fsbo/2_p/ | Status code: 200\n",
      "HTTP GET request to URL: https://www.zillow.com/new-york-ny/fsbo/2_p/ | Status code: 200\n"
     ]
    }
   ],
   "source": [
    "#Importing necessary libraries \n",
    "import requests\n",
    "from bs4 import BeautifulSoup\n",
    "import csv\n",
    "\n",
    "final_list = [] #Creating an empty list\n",
    "\n",
    "html_tags = {\n",
    "        'accept': 'text/html,application/xhtml+xml,application/xml;q=0.9,image/webp,image/apng,*/*;q=0.8,application/signed-exchange;v=b3',\n",
    "        'accept-encoding': 'gzip, deflate, br',\n",
    "        'accept-language': 'en-US,en;q=0.9',\n",
    "        'cache-control': 'no-cache',\n",
    "        'cookie': 'zguid=23|%2403435e76-0699-4a32-b86d-77d033c907ef; _ga=GA1.2.1271511001.1575011821; zjs_user_id=null; zjs_anonymous_id=%2203435e76-0699-4a32-b86d-77d033c907ef%22; _gcl_au=1.1.1333357279.1575011822; _pxvid=3cfcc163-1278-11ea-bff8-0242ac12000b; ki_r=; __gads=ID=84d8013cfac6df96:T=1575012041:S=ALNI_MaSvVNZsir2JXJ17pv54bjsPuyfcw; ki_s=199442%3A0.0.0.0.0%3B199444%3A0.0.0.0.2; zgsession=1|c0999376-b167-4a47-a1cd-0e456d882d4e; _gid=GA1.2.55965867.1578668946; JSESSIONID=87D0662A6BC141A73F0D12620788519C; KruxPixel=true; DoubleClickSession=true; KruxAddition=true; ki_t=1575011869563%3B1578669044158%3B1578669044158%3B2%3B10; _pxff_tm=1; _px3=2e6809e35ce7e076934ff998c2bdb8140e8b793b53e08a27c5da11f1b4760755:DFItCmrETuS2OQcztcFmt0FYPUn00ihAAue2ynQgbfSq6H+p2yP3Rl3aeyls3Unr1VRJSgcNue8Rr1SUq4P1jA==:1000:9ueZvAJ6v5y4ny7psGF25dK+d3GlytY2Bh+Xj9UUhC4DaioIZ+FMXPU0mOX+Qnghqut0jIT61gLecN4fyu6qXaPDlBX6YsZVbIry1YyBN/37l0Ri3JP+E0h+m+QEBB+bqb6MbE2HtgGBJRJAry8dgOKGM5JtBGdX+X/nuQX1xaw=; AWSALB=E6JYC43gXQRlE2jPT9e2vAQOYPvdHnccBlqi0mcXevYExTaHro0M+uo/Qxahi6JyLz9LpotY9eLtEbYrAOeQXcCm6UhjWnTopQHernmjlR/ibE6JmE8F6tReiBn4; search=6|1581261153229%7Crect%3D40.96202658306895%252C-73.55498286718745%252C40.4487909557045%252C-74.40093013281245%26rid%3D6181%26disp%3Dmap%26mdm%3Dauto%26p%3D3%26z%3D0%26lt%3Dfsbo%26pt%3Dpmf%252Cpf%26fs%3D1%26fr%3D0%26mmm%3D1%26rs%3D0%26ah%3D0%26singlestory%3D0%26housing-connector%3D0%26abo%3D0%26garage%3D0%26pool%3D0%26ac%3D0%26waterfront%3D0%26finished%3D0%26unfinished%3D0%26cityview%3D0%26mountainview%3D0%26parkview%3D0%26waterview%3D0%26hoadata%3D1%26zillow-owned%3D0%09%01%096181%09%09%09%090%09US_%09',\n",
    "        'pragma': 'no-cache',\n",
    "        'upgrade-insecure-requests': '1',\n",
    "        'user-agent': 'Mozilla/5.0 (X11; Linux x86_64) AppleWebKit/537.36 (KHTML, like Gecko) Ubuntu Chromium/75.0.3770.142 Chrome/75.0.3770.142 Safari/537.36'\n",
    "    } #Creating headers \n",
    "\n",
    "def to_csv(): #A function to store the data into a csv file\n",
    "    with open('NYRealEstate.csv', 'w') as csv_file:\n",
    "        writer = csv.DictWriter(csv_file, fieldnames = final_list[0].keys())\n",
    "        writer.writeheader()\n",
    "            \n",
    "        for row in final_list:\n",
    "             writer.writerow(row)\n",
    "                \n",
    "def parse(html):\n",
    "        content = BeautifulSoup(html, 'lxml') \n",
    "        cards = content.findAll('article', {'class': 'list-card'})\n",
    "        \n",
    "        for card in cards: \n",
    "            try: #Will get the details of bathroom.\n",
    "                ba = card.find('ul', {'class': 'list-card-details'}).findAll('li')[1].text.split(' ')[0]\n",
    "            except:\n",
    "                ba = 'N/A'\n",
    "            \n",
    "            try: #will get the details of sqft area of the property.\n",
    "                sqft = card.find('ul', {'class': 'list-card-details'}).findAll('li')[2].text.split(' ')[0]\n",
    "            except:\n",
    "                sqft = 'N/A'\n",
    "            \n",
    "            try:\n",
    "                image = card.find('img')['src']\n",
    "            except:\n",
    "                image = 'N/A'\n",
    "\n",
    "            final_list.append({ #The values scraped and cleaned will be appended to their respective columns.\n",
    "                'price': card.find('div', {'class': 'list-card-price'}).text,\n",
    "                'address': card.find('address', {'class': 'list-card-addr'}).text,\n",
    "                'bds': card.find('ul', {'class': 'list-card-details'}).findAll('li')[0].text.split(' ')[0],\n",
    "                'ba': ba,\n",
    "                'sqft': sqft,\n",
    "                'image': image\n",
    "            })\n",
    "            \n",
    "def fetch(url, params):\n",
    "        print('HTTP GET request to URL: %s' % url, end='')\n",
    "        res = requests.get(url, params=params, headers=html_tags) #Will scrape the data \n",
    "        print(' | Status code: %s' % res.status_code) #to print the status code of scraping \n",
    "        \n",
    "        return res\n",
    "    \n",
    "def run(): #A function which will the run the query to get the data from the website.\n",
    "        for page in range(1, 5):\n",
    "            params = {\n",
    "                'searchQueryState': '{\"pagination\":{\"currentPage\":%s},\"mapBounds\":{\"west\":-74.40093013281245,\"east\":-73.55498286718745,\"south\":40.4487909557045,\"north\":40.96202658306895},\"regionSelection\":[{\"regionId\":6181,\"regionType\":6}],\"isMapVisible\":false,\"filterState\":{\"isForSaleByAgent\":{\"value\":false},\"isNewConstruction\":{\"value\":false},\"isForSaleForeclosure\":{\"value\":false},\"isComingSoon\":{\"value\":false},\"isAuction\":{\"value\":false}},\"isListVisible\":true}' % page\n",
    "            } #The parameters which will b used to fetch the data from the website.\n",
    "            \n",
    "            res = fetch('https://www.zillow.com/new-york-ny/fsbo/2_p/', params) #Will fetch the data and store it in a variable.\n",
    "            parse(res.text) #The variable is passed into another funtion for parsing the data i.e. processing what've been fetched.\n",
    "        \n",
    "        to_csv() #After the for is executed, this function will be called to store data into a csv file.\n",
    "        \n",
    "run()#Calling the main function to scrape data from the real estate website.\n",
    "\n",
    "#Reference : https://github.com/maksimKorzh/one-time-scrapers/blob/master/scrapers/zillow/zillow_scraper.py"
   ]
  },
  {
   "cell_type": "code",
   "execution_count": 2,
   "metadata": {},
   "outputs": [],
   "source": [
    "#Importing important libraries for analysis and visualisation\n",
    "import numpy as np\n",
    "import pandas as pd\n",
    "import matplotlib.pyplot as plt\n",
    "import seaborn as sns\n",
    "import re"
   ]
  },
  {
   "cell_type": "code",
   "execution_count": 3,
   "metadata": {},
   "outputs": [],
   "source": [
    "#Importing the scraped dataset \n",
    "data = pd.read_csv('NYRealEstate.csv')"
   ]
  },
  {
   "cell_type": "code",
   "execution_count": 4,
   "metadata": {},
   "outputs": [
    {
     "data": {
      "text/html": [
       "<div>\n",
       "<style scoped>\n",
       "    .dataframe tbody tr th:only-of-type {\n",
       "        vertical-align: middle;\n",
       "    }\n",
       "\n",
       "    .dataframe tbody tr th {\n",
       "        vertical-align: top;\n",
       "    }\n",
       "\n",
       "    .dataframe thead th {\n",
       "        text-align: right;\n",
       "    }\n",
       "</style>\n",
       "<table border=\"1\" class=\"dataframe\">\n",
       "  <thead>\n",
       "    <tr style=\"text-align: right;\">\n",
       "      <th></th>\n",
       "      <th>price</th>\n",
       "      <th>address</th>\n",
       "      <th>bds</th>\n",
       "      <th>ba</th>\n",
       "      <th>sqft</th>\n",
       "      <th>image</th>\n",
       "    </tr>\n",
       "  </thead>\n",
       "  <tbody>\n",
       "    <tr>\n",
       "      <th>0</th>\n",
       "      <td>$599,900</td>\n",
       "      <td>13449 161st St, Jamaica, NY 11434</td>\n",
       "      <td>3</td>\n",
       "      <td>3</td>\n",
       "      <td>1,280</td>\n",
       "      <td>https://photos.zillowstatic.com/fp/27c8725d4d8...</td>\n",
       "    </tr>\n",
       "    <tr>\n",
       "      <th>1</th>\n",
       "      <td>$599,000</td>\n",
       "      <td>35 Ludlow St, Staten Island, NY 10312</td>\n",
       "      <td>3</td>\n",
       "      <td>2</td>\n",
       "      <td>1,512</td>\n",
       "      <td>https://photos.zillowstatic.com/fp/dc2c671ecfc...</td>\n",
       "    </tr>\n",
       "    <tr>\n",
       "      <th>2</th>\n",
       "      <td>$499,000</td>\n",
       "      <td>193 E 37th St #B, Brooklyn, NY 11203</td>\n",
       "      <td>4</td>\n",
       "      <td>2</td>\n",
       "      <td>1,824</td>\n",
       "      <td>NaN</td>\n",
       "    </tr>\n",
       "    <tr>\n",
       "      <th>3</th>\n",
       "      <td>$680,000</td>\n",
       "      <td>161 E 31st St, Brooklyn, NY 11226</td>\n",
       "      <td>7</td>\n",
       "      <td>3</td>\n",
       "      <td>2,184</td>\n",
       "      <td>https://photos.zillowstatic.com/fp/543f7c1248e...</td>\n",
       "    </tr>\n",
       "    <tr>\n",
       "      <th>4</th>\n",
       "      <td>$100,000</td>\n",
       "      <td>45 Tudor City Pl, New York, NY 10017</td>\n",
       "      <td>--</td>\n",
       "      <td>--</td>\n",
       "      <td>--</td>\n",
       "      <td>NaN</td>\n",
       "    </tr>\n",
       "    <tr>\n",
       "      <th>...</th>\n",
       "      <td>...</td>\n",
       "      <td>...</td>\n",
       "      <td>...</td>\n",
       "      <td>...</td>\n",
       "      <td>...</td>\n",
       "      <td>...</td>\n",
       "    </tr>\n",
       "    <tr>\n",
       "      <th>155</th>\n",
       "      <td>$160,000</td>\n",
       "      <td>17 Sunnymeade Vlg, Staten Island, NY 10305</td>\n",
       "      <td>2,132</td>\n",
       "      <td>NaN</td>\n",
       "      <td>NaN</td>\n",
       "      <td>NaN</td>\n",
       "    </tr>\n",
       "    <tr>\n",
       "      <th>156</th>\n",
       "      <td>$689,000</td>\n",
       "      <td>22 Rome Ave, Staten Island, NY 10304</td>\n",
       "      <td>3</td>\n",
       "      <td>3</td>\n",
       "      <td>1,350</td>\n",
       "      <td>data:image/gif;base64,R0lGODlhAQABAIAAAAAAAP//...</td>\n",
       "    </tr>\n",
       "    <tr>\n",
       "      <th>157</th>\n",
       "      <td>$2,750,000</td>\n",
       "      <td>1435 Lexington Ave APT 11E, New York, NY 10128</td>\n",
       "      <td>3</td>\n",
       "      <td>3</td>\n",
       "      <td>116,270</td>\n",
       "      <td>NaN</td>\n",
       "    </tr>\n",
       "    <tr>\n",
       "      <th>158</th>\n",
       "      <td>$1,538,000</td>\n",
       "      <td>33-51 157th St, Flushing, NY 11354</td>\n",
       "      <td>4</td>\n",
       "      <td>3</td>\n",
       "      <td>2,750</td>\n",
       "      <td>data:image/gif;base64,R0lGODlhAQABAIAAAAAAAP//...</td>\n",
       "    </tr>\n",
       "    <tr>\n",
       "      <th>159</th>\n",
       "      <td>$599,000</td>\n",
       "      <td>562 Hendrix St, Brooklyn, NY 11207</td>\n",
       "      <td>5</td>\n",
       "      <td>3</td>\n",
       "      <td>1,134</td>\n",
       "      <td>data:image/gif;base64,R0lGODlhAQABAIAAAAAAAP//...</td>\n",
       "    </tr>\n",
       "  </tbody>\n",
       "</table>\n",
       "<p>160 rows × 6 columns</p>\n",
       "</div>"
      ],
      "text/plain": [
       "          price                                         address    bds   ba  \\\n",
       "0      $599,900               13449 161st St, Jamaica, NY 11434      3    3   \n",
       "1      $599,000           35 Ludlow St, Staten Island, NY 10312      3    2   \n",
       "2      $499,000            193 E 37th St #B, Brooklyn, NY 11203      4    2   \n",
       "3      $680,000               161 E 31st St, Brooklyn, NY 11226      7    3   \n",
       "4      $100,000            45 Tudor City Pl, New York, NY 10017     --   --   \n",
       "..          ...                                             ...    ...  ...   \n",
       "155    $160,000      17 Sunnymeade Vlg, Staten Island, NY 10305  2,132  NaN   \n",
       "156    $689,000            22 Rome Ave, Staten Island, NY 10304      3    3   \n",
       "157  $2,750,000  1435 Lexington Ave APT 11E, New York, NY 10128      3    3   \n",
       "158  $1,538,000              33-51 157th St, Flushing, NY 11354      4    3   \n",
       "159    $599,000              562 Hendrix St, Brooklyn, NY 11207      5    3   \n",
       "\n",
       "        sqft                                              image  \n",
       "0      1,280  https://photos.zillowstatic.com/fp/27c8725d4d8...  \n",
       "1      1,512  https://photos.zillowstatic.com/fp/dc2c671ecfc...  \n",
       "2      1,824                                                NaN  \n",
       "3      2,184  https://photos.zillowstatic.com/fp/543f7c1248e...  \n",
       "4         --                                                NaN  \n",
       "..       ...                                                ...  \n",
       "155      NaN                                                NaN  \n",
       "156    1,350  data:image/gif;base64,R0lGODlhAQABAIAAAAAAAP//...  \n",
       "157  116,270                                                NaN  \n",
       "158    2,750  data:image/gif;base64,R0lGODlhAQABAIAAAAAAAP//...  \n",
       "159    1,134  data:image/gif;base64,R0lGODlhAQABAIAAAAAAAP//...  \n",
       "\n",
       "[160 rows x 6 columns]"
      ]
     },
     "execution_count": 4,
     "metadata": {},
     "output_type": "execute_result"
    }
   ],
   "source": [
    "data"
   ]
  },
  {
   "cell_type": "markdown",
   "metadata": {},
   "source": [
    "# Data Preprocessing"
   ]
  },
  {
   "cell_type": "code",
   "execution_count": null,
   "metadata": {},
   "outputs": [],
   "source": [
    "#Steps to prepare :\n",
    "#1. Remove the column images as it has no significance for our data.\n",
    "#2. Split the address as per city, state, zip code and remove the extra column.\n",
    "#3. Remove special characters from numeral columns. \n",
    "#4. Check data types of columns and change the required ones to integers and float.\n",
    "#5. Visualise the columns to check the null values and deal with them accordingly.\n",
    "#6. Explore the columns bds, ba, city, state along with the help of seaborn visualisation to identify the odd value and update them as per the dataset needs."
   ]
  },
  {
   "cell_type": "code",
   "execution_count": 5,
   "metadata": {},
   "outputs": [],
   "source": [
    "data = data.iloc[ : , : -1]"
   ]
  },
  {
   "cell_type": "code",
   "execution_count": 6,
   "metadata": {},
   "outputs": [
    {
     "data": {
      "text/html": [
       "<div>\n",
       "<style scoped>\n",
       "    .dataframe tbody tr th:only-of-type {\n",
       "        vertical-align: middle;\n",
       "    }\n",
       "\n",
       "    .dataframe tbody tr th {\n",
       "        vertical-align: top;\n",
       "    }\n",
       "\n",
       "    .dataframe thead th {\n",
       "        text-align: right;\n",
       "    }\n",
       "</style>\n",
       "<table border=\"1\" class=\"dataframe\">\n",
       "  <thead>\n",
       "    <tr style=\"text-align: right;\">\n",
       "      <th></th>\n",
       "      <th>price</th>\n",
       "      <th>address</th>\n",
       "      <th>bds</th>\n",
       "      <th>ba</th>\n",
       "      <th>sqft</th>\n",
       "    </tr>\n",
       "  </thead>\n",
       "  <tbody>\n",
       "    <tr>\n",
       "      <th>0</th>\n",
       "      <td>$599,900</td>\n",
       "      <td>13449 161st St, Jamaica, NY 11434</td>\n",
       "      <td>3</td>\n",
       "      <td>3</td>\n",
       "      <td>1,280</td>\n",
       "    </tr>\n",
       "    <tr>\n",
       "      <th>1</th>\n",
       "      <td>$599,000</td>\n",
       "      <td>35 Ludlow St, Staten Island, NY 10312</td>\n",
       "      <td>3</td>\n",
       "      <td>2</td>\n",
       "      <td>1,512</td>\n",
       "    </tr>\n",
       "    <tr>\n",
       "      <th>2</th>\n",
       "      <td>$499,000</td>\n",
       "      <td>193 E 37th St #B, Brooklyn, NY 11203</td>\n",
       "      <td>4</td>\n",
       "      <td>2</td>\n",
       "      <td>1,824</td>\n",
       "    </tr>\n",
       "    <tr>\n",
       "      <th>3</th>\n",
       "      <td>$680,000</td>\n",
       "      <td>161 E 31st St, Brooklyn, NY 11226</td>\n",
       "      <td>7</td>\n",
       "      <td>3</td>\n",
       "      <td>2,184</td>\n",
       "    </tr>\n",
       "    <tr>\n",
       "      <th>4</th>\n",
       "      <td>$100,000</td>\n",
       "      <td>45 Tudor City Pl, New York, NY 10017</td>\n",
       "      <td>--</td>\n",
       "      <td>--</td>\n",
       "      <td>--</td>\n",
       "    </tr>\n",
       "    <tr>\n",
       "      <th>...</th>\n",
       "      <td>...</td>\n",
       "      <td>...</td>\n",
       "      <td>...</td>\n",
       "      <td>...</td>\n",
       "      <td>...</td>\n",
       "    </tr>\n",
       "    <tr>\n",
       "      <th>155</th>\n",
       "      <td>$160,000</td>\n",
       "      <td>17 Sunnymeade Vlg, Staten Island, NY 10305</td>\n",
       "      <td>2,132</td>\n",
       "      <td>NaN</td>\n",
       "      <td>NaN</td>\n",
       "    </tr>\n",
       "    <tr>\n",
       "      <th>156</th>\n",
       "      <td>$689,000</td>\n",
       "      <td>22 Rome Ave, Staten Island, NY 10304</td>\n",
       "      <td>3</td>\n",
       "      <td>3</td>\n",
       "      <td>1,350</td>\n",
       "    </tr>\n",
       "    <tr>\n",
       "      <th>157</th>\n",
       "      <td>$2,750,000</td>\n",
       "      <td>1435 Lexington Ave APT 11E, New York, NY 10128</td>\n",
       "      <td>3</td>\n",
       "      <td>3</td>\n",
       "      <td>116,270</td>\n",
       "    </tr>\n",
       "    <tr>\n",
       "      <th>158</th>\n",
       "      <td>$1,538,000</td>\n",
       "      <td>33-51 157th St, Flushing, NY 11354</td>\n",
       "      <td>4</td>\n",
       "      <td>3</td>\n",
       "      <td>2,750</td>\n",
       "    </tr>\n",
       "    <tr>\n",
       "      <th>159</th>\n",
       "      <td>$599,000</td>\n",
       "      <td>562 Hendrix St, Brooklyn, NY 11207</td>\n",
       "      <td>5</td>\n",
       "      <td>3</td>\n",
       "      <td>1,134</td>\n",
       "    </tr>\n",
       "  </tbody>\n",
       "</table>\n",
       "<p>160 rows × 5 columns</p>\n",
       "</div>"
      ],
      "text/plain": [
       "          price                                         address    bds   ba  \\\n",
       "0      $599,900               13449 161st St, Jamaica, NY 11434      3    3   \n",
       "1      $599,000           35 Ludlow St, Staten Island, NY 10312      3    2   \n",
       "2      $499,000            193 E 37th St #B, Brooklyn, NY 11203      4    2   \n",
       "3      $680,000               161 E 31st St, Brooklyn, NY 11226      7    3   \n",
       "4      $100,000            45 Tudor City Pl, New York, NY 10017     --   --   \n",
       "..          ...                                             ...    ...  ...   \n",
       "155    $160,000      17 Sunnymeade Vlg, Staten Island, NY 10305  2,132  NaN   \n",
       "156    $689,000            22 Rome Ave, Staten Island, NY 10304      3    3   \n",
       "157  $2,750,000  1435 Lexington Ave APT 11E, New York, NY 10128      3    3   \n",
       "158  $1,538,000              33-51 157th St, Flushing, NY 11354      4    3   \n",
       "159    $599,000              562 Hendrix St, Brooklyn, NY 11207      5    3   \n",
       "\n",
       "        sqft  \n",
       "0      1,280  \n",
       "1      1,512  \n",
       "2      1,824  \n",
       "3      2,184  \n",
       "4         --  \n",
       "..       ...  \n",
       "155      NaN  \n",
       "156    1,350  \n",
       "157  116,270  \n",
       "158    2,750  \n",
       "159    1,134  \n",
       "\n",
       "[160 rows x 5 columns]"
      ]
     },
     "execution_count": 6,
     "metadata": {},
     "output_type": "execute_result"
    }
   ],
   "source": [
    "data \n",
    "#BDS - Bedroom, Dining, Spatious, BA - Bathroom"
   ]
  },
  {
   "cell_type": "code",
   "execution_count": 7,
   "metadata": {},
   "outputs": [
    {
     "data": {
      "text/plain": [
       "0                   13449 161st St, Jamaica, NY 11434\n",
       "1               35 Ludlow St, Staten Island, NY 10312\n",
       "2                193 E 37th St #B, Brooklyn, NY 11203\n",
       "3                   161 E 31st St, Brooklyn, NY 11226\n",
       "4                45 Tudor City Pl, New York, NY 10017\n",
       "                            ...                      \n",
       "155        17 Sunnymeade Vlg, Staten Island, NY 10305\n",
       "156              22 Rome Ave, Staten Island, NY 10304\n",
       "157    1435 Lexington Ave APT 11E, New York, NY 10128\n",
       "158                33-51 157th St, Flushing, NY 11354\n",
       "159                562 Hendrix St, Brooklyn, NY 11207\n",
       "Name: address, Length: 160, dtype: object"
      ]
     },
     "execution_count": 7,
     "metadata": {},
     "output_type": "execute_result"
    }
   ],
   "source": [
    "data['address']"
   ]
  },
  {
   "cell_type": "code",
   "execution_count": 8,
   "metadata": {},
   "outputs": [],
   "source": [
    "#Splitting the address\n",
    "\n",
    "spl = data['address'].str.split(', ', 1, expand=True)\n",
    "data['Street'] = spl[0]\n",
    "spl1 = spl[1].str.split(', ', 1, expand=True)\n",
    "data['City'] = spl1[0]\n",
    "data['State'] = spl1[1]"
   ]
  },
  {
   "cell_type": "code",
   "execution_count": 9,
   "metadata": {},
   "outputs": [],
   "source": [
    "#Splits and enters the values in a new column for State and Zip of address\n",
    "spl2 = data['State'].str.split()\n",
    "data[['State','Zip']] = pd.DataFrame(spl2.tolist(), index= data.index) "
   ]
  },
  {
   "cell_type": "code",
   "execution_count": 10,
   "metadata": {},
   "outputs": [],
   "source": [
    "#Removes the initial address column as it has no significance now\n",
    "data.drop('address', axis=1, inplace=True)"
   ]
  },
  {
   "cell_type": "code",
   "execution_count": 11,
   "metadata": {},
   "outputs": [
    {
     "data": {
      "text/html": [
       "<div>\n",
       "<style scoped>\n",
       "    .dataframe tbody tr th:only-of-type {\n",
       "        vertical-align: middle;\n",
       "    }\n",
       "\n",
       "    .dataframe tbody tr th {\n",
       "        vertical-align: top;\n",
       "    }\n",
       "\n",
       "    .dataframe thead th {\n",
       "        text-align: right;\n",
       "    }\n",
       "</style>\n",
       "<table border=\"1\" class=\"dataframe\">\n",
       "  <thead>\n",
       "    <tr style=\"text-align: right;\">\n",
       "      <th></th>\n",
       "      <th>price</th>\n",
       "      <th>bds</th>\n",
       "      <th>ba</th>\n",
       "      <th>sqft</th>\n",
       "      <th>Street</th>\n",
       "      <th>City</th>\n",
       "      <th>State</th>\n",
       "      <th>Zip</th>\n",
       "    </tr>\n",
       "  </thead>\n",
       "  <tbody>\n",
       "    <tr>\n",
       "      <th>0</th>\n",
       "      <td>$599,900</td>\n",
       "      <td>3</td>\n",
       "      <td>3</td>\n",
       "      <td>1,280</td>\n",
       "      <td>13449 161st St</td>\n",
       "      <td>Jamaica</td>\n",
       "      <td>NY</td>\n",
       "      <td>11434</td>\n",
       "    </tr>\n",
       "    <tr>\n",
       "      <th>1</th>\n",
       "      <td>$599,000</td>\n",
       "      <td>3</td>\n",
       "      <td>2</td>\n",
       "      <td>1,512</td>\n",
       "      <td>35 Ludlow St</td>\n",
       "      <td>Staten Island</td>\n",
       "      <td>NY</td>\n",
       "      <td>10312</td>\n",
       "    </tr>\n",
       "    <tr>\n",
       "      <th>2</th>\n",
       "      <td>$499,000</td>\n",
       "      <td>4</td>\n",
       "      <td>2</td>\n",
       "      <td>1,824</td>\n",
       "      <td>193 E 37th St #B</td>\n",
       "      <td>Brooklyn</td>\n",
       "      <td>NY</td>\n",
       "      <td>11203</td>\n",
       "    </tr>\n",
       "    <tr>\n",
       "      <th>3</th>\n",
       "      <td>$680,000</td>\n",
       "      <td>7</td>\n",
       "      <td>3</td>\n",
       "      <td>2,184</td>\n",
       "      <td>161 E 31st St</td>\n",
       "      <td>Brooklyn</td>\n",
       "      <td>NY</td>\n",
       "      <td>11226</td>\n",
       "    </tr>\n",
       "    <tr>\n",
       "      <th>4</th>\n",
       "      <td>$100,000</td>\n",
       "      <td>--</td>\n",
       "      <td>--</td>\n",
       "      <td>--</td>\n",
       "      <td>45 Tudor City Pl</td>\n",
       "      <td>New York</td>\n",
       "      <td>NY</td>\n",
       "      <td>10017</td>\n",
       "    </tr>\n",
       "    <tr>\n",
       "      <th>...</th>\n",
       "      <td>...</td>\n",
       "      <td>...</td>\n",
       "      <td>...</td>\n",
       "      <td>...</td>\n",
       "      <td>...</td>\n",
       "      <td>...</td>\n",
       "      <td>...</td>\n",
       "      <td>...</td>\n",
       "    </tr>\n",
       "    <tr>\n",
       "      <th>155</th>\n",
       "      <td>$160,000</td>\n",
       "      <td>2,132</td>\n",
       "      <td>NaN</td>\n",
       "      <td>NaN</td>\n",
       "      <td>17 Sunnymeade Vlg</td>\n",
       "      <td>Staten Island</td>\n",
       "      <td>NY</td>\n",
       "      <td>10305</td>\n",
       "    </tr>\n",
       "    <tr>\n",
       "      <th>156</th>\n",
       "      <td>$689,000</td>\n",
       "      <td>3</td>\n",
       "      <td>3</td>\n",
       "      <td>1,350</td>\n",
       "      <td>22 Rome Ave</td>\n",
       "      <td>Staten Island</td>\n",
       "      <td>NY</td>\n",
       "      <td>10304</td>\n",
       "    </tr>\n",
       "    <tr>\n",
       "      <th>157</th>\n",
       "      <td>$2,750,000</td>\n",
       "      <td>3</td>\n",
       "      <td>3</td>\n",
       "      <td>116,270</td>\n",
       "      <td>1435 Lexington Ave APT 11E</td>\n",
       "      <td>New York</td>\n",
       "      <td>NY</td>\n",
       "      <td>10128</td>\n",
       "    </tr>\n",
       "    <tr>\n",
       "      <th>158</th>\n",
       "      <td>$1,538,000</td>\n",
       "      <td>4</td>\n",
       "      <td>3</td>\n",
       "      <td>2,750</td>\n",
       "      <td>33-51 157th St</td>\n",
       "      <td>Flushing</td>\n",
       "      <td>NY</td>\n",
       "      <td>11354</td>\n",
       "    </tr>\n",
       "    <tr>\n",
       "      <th>159</th>\n",
       "      <td>$599,000</td>\n",
       "      <td>5</td>\n",
       "      <td>3</td>\n",
       "      <td>1,134</td>\n",
       "      <td>562 Hendrix St</td>\n",
       "      <td>Brooklyn</td>\n",
       "      <td>NY</td>\n",
       "      <td>11207</td>\n",
       "    </tr>\n",
       "  </tbody>\n",
       "</table>\n",
       "<p>160 rows × 8 columns</p>\n",
       "</div>"
      ],
      "text/plain": [
       "          price    bds   ba     sqft                      Street  \\\n",
       "0      $599,900      3    3    1,280              13449 161st St   \n",
       "1      $599,000      3    2    1,512                35 Ludlow St   \n",
       "2      $499,000      4    2    1,824            193 E 37th St #B   \n",
       "3      $680,000      7    3    2,184               161 E 31st St   \n",
       "4      $100,000     --   --       --            45 Tudor City Pl   \n",
       "..          ...    ...  ...      ...                         ...   \n",
       "155    $160,000  2,132  NaN      NaN           17 Sunnymeade Vlg   \n",
       "156    $689,000      3    3    1,350                 22 Rome Ave   \n",
       "157  $2,750,000      3    3  116,270  1435 Lexington Ave APT 11E   \n",
       "158  $1,538,000      4    3    2,750              33-51 157th St   \n",
       "159    $599,000      5    3    1,134              562 Hendrix St   \n",
       "\n",
       "              City State    Zip  \n",
       "0          Jamaica    NY  11434  \n",
       "1    Staten Island    NY  10312  \n",
       "2         Brooklyn    NY  11203  \n",
       "3         Brooklyn    NY  11226  \n",
       "4         New York    NY  10017  \n",
       "..             ...   ...    ...  \n",
       "155  Staten Island    NY  10305  \n",
       "156  Staten Island    NY  10304  \n",
       "157       New York    NY  10128  \n",
       "158       Flushing    NY  11354  \n",
       "159       Brooklyn    NY  11207  \n",
       "\n",
       "[160 rows x 8 columns]"
      ]
     },
     "execution_count": 11,
     "metadata": {},
     "output_type": "execute_result"
    }
   ],
   "source": [
    "data"
   ]
  },
  {
   "cell_type": "code",
   "execution_count": 12,
   "metadata": {},
   "outputs": [],
   "source": [
    "#The column Street doesn't help much so dropping the column Street\n",
    "data.drop('Street', axis=1, inplace=True)"
   ]
  },
  {
   "cell_type": "code",
   "execution_count": 13,
   "metadata": {},
   "outputs": [
    {
     "data": {
      "text/html": [
       "<div>\n",
       "<style scoped>\n",
       "    .dataframe tbody tr th:only-of-type {\n",
       "        vertical-align: middle;\n",
       "    }\n",
       "\n",
       "    .dataframe tbody tr th {\n",
       "        vertical-align: top;\n",
       "    }\n",
       "\n",
       "    .dataframe thead th {\n",
       "        text-align: right;\n",
       "    }\n",
       "</style>\n",
       "<table border=\"1\" class=\"dataframe\">\n",
       "  <thead>\n",
       "    <tr style=\"text-align: right;\">\n",
       "      <th></th>\n",
       "      <th>price</th>\n",
       "      <th>bds</th>\n",
       "      <th>ba</th>\n",
       "      <th>sqft</th>\n",
       "      <th>City</th>\n",
       "      <th>State</th>\n",
       "      <th>Zip</th>\n",
       "    </tr>\n",
       "  </thead>\n",
       "  <tbody>\n",
       "    <tr>\n",
       "      <th>0</th>\n",
       "      <td>$599,900</td>\n",
       "      <td>3</td>\n",
       "      <td>3</td>\n",
       "      <td>1,280</td>\n",
       "      <td>Jamaica</td>\n",
       "      <td>NY</td>\n",
       "      <td>11434</td>\n",
       "    </tr>\n",
       "    <tr>\n",
       "      <th>1</th>\n",
       "      <td>$599,000</td>\n",
       "      <td>3</td>\n",
       "      <td>2</td>\n",
       "      <td>1,512</td>\n",
       "      <td>Staten Island</td>\n",
       "      <td>NY</td>\n",
       "      <td>10312</td>\n",
       "    </tr>\n",
       "    <tr>\n",
       "      <th>2</th>\n",
       "      <td>$499,000</td>\n",
       "      <td>4</td>\n",
       "      <td>2</td>\n",
       "      <td>1,824</td>\n",
       "      <td>Brooklyn</td>\n",
       "      <td>NY</td>\n",
       "      <td>11203</td>\n",
       "    </tr>\n",
       "    <tr>\n",
       "      <th>3</th>\n",
       "      <td>$680,000</td>\n",
       "      <td>7</td>\n",
       "      <td>3</td>\n",
       "      <td>2,184</td>\n",
       "      <td>Brooklyn</td>\n",
       "      <td>NY</td>\n",
       "      <td>11226</td>\n",
       "    </tr>\n",
       "    <tr>\n",
       "      <th>4</th>\n",
       "      <td>$100,000</td>\n",
       "      <td>--</td>\n",
       "      <td>--</td>\n",
       "      <td>--</td>\n",
       "      <td>New York</td>\n",
       "      <td>NY</td>\n",
       "      <td>10017</td>\n",
       "    </tr>\n",
       "    <tr>\n",
       "      <th>...</th>\n",
       "      <td>...</td>\n",
       "      <td>...</td>\n",
       "      <td>...</td>\n",
       "      <td>...</td>\n",
       "      <td>...</td>\n",
       "      <td>...</td>\n",
       "      <td>...</td>\n",
       "    </tr>\n",
       "    <tr>\n",
       "      <th>155</th>\n",
       "      <td>$160,000</td>\n",
       "      <td>2,132</td>\n",
       "      <td>NaN</td>\n",
       "      <td>NaN</td>\n",
       "      <td>Staten Island</td>\n",
       "      <td>NY</td>\n",
       "      <td>10305</td>\n",
       "    </tr>\n",
       "    <tr>\n",
       "      <th>156</th>\n",
       "      <td>$689,000</td>\n",
       "      <td>3</td>\n",
       "      <td>3</td>\n",
       "      <td>1,350</td>\n",
       "      <td>Staten Island</td>\n",
       "      <td>NY</td>\n",
       "      <td>10304</td>\n",
       "    </tr>\n",
       "    <tr>\n",
       "      <th>157</th>\n",
       "      <td>$2,750,000</td>\n",
       "      <td>3</td>\n",
       "      <td>3</td>\n",
       "      <td>116,270</td>\n",
       "      <td>New York</td>\n",
       "      <td>NY</td>\n",
       "      <td>10128</td>\n",
       "    </tr>\n",
       "    <tr>\n",
       "      <th>158</th>\n",
       "      <td>$1,538,000</td>\n",
       "      <td>4</td>\n",
       "      <td>3</td>\n",
       "      <td>2,750</td>\n",
       "      <td>Flushing</td>\n",
       "      <td>NY</td>\n",
       "      <td>11354</td>\n",
       "    </tr>\n",
       "    <tr>\n",
       "      <th>159</th>\n",
       "      <td>$599,000</td>\n",
       "      <td>5</td>\n",
       "      <td>3</td>\n",
       "      <td>1,134</td>\n",
       "      <td>Brooklyn</td>\n",
       "      <td>NY</td>\n",
       "      <td>11207</td>\n",
       "    </tr>\n",
       "  </tbody>\n",
       "</table>\n",
       "<p>160 rows × 7 columns</p>\n",
       "</div>"
      ],
      "text/plain": [
       "          price    bds   ba     sqft           City State    Zip\n",
       "0      $599,900      3    3    1,280        Jamaica    NY  11434\n",
       "1      $599,000      3    2    1,512  Staten Island    NY  10312\n",
       "2      $499,000      4    2    1,824       Brooklyn    NY  11203\n",
       "3      $680,000      7    3    2,184       Brooklyn    NY  11226\n",
       "4      $100,000     --   --       --       New York    NY  10017\n",
       "..          ...    ...  ...      ...            ...   ...    ...\n",
       "155    $160,000  2,132  NaN      NaN  Staten Island    NY  10305\n",
       "156    $689,000      3    3    1,350  Staten Island    NY  10304\n",
       "157  $2,750,000      3    3  116,270       New York    NY  10128\n",
       "158  $1,538,000      4    3    2,750       Flushing    NY  11354\n",
       "159    $599,000      5    3    1,134       Brooklyn    NY  11207\n",
       "\n",
       "[160 rows x 7 columns]"
      ]
     },
     "execution_count": 13,
     "metadata": {},
     "output_type": "execute_result"
    }
   ],
   "source": [
    "data"
   ]
  },
  {
   "cell_type": "code",
   "execution_count": 15,
   "metadata": {},
   "outputs": [],
   "source": [
    "#Removing Special Characters from Price and SQFT Columns and storing them in a different column\n",
    "data['Sqft'] = data['sqft'].str.replace('\\W', '')\n",
    "data['Price'] = data['price'].str.replace('\\W', '')"
   ]
  },
  {
   "cell_type": "code",
   "execution_count": 16,
   "metadata": {},
   "outputs": [],
   "source": [
    "#Removing the initial price and sqft columns and keeping the updated ones\n",
    "data.drop('price', axis=1, inplace=True)\n",
    "data.drop('sqft', axis=1, inplace=True)"
   ]
  },
  {
   "cell_type": "code",
   "execution_count": 17,
   "metadata": {},
   "outputs": [
    {
     "data": {
      "text/html": [
       "<div>\n",
       "<style scoped>\n",
       "    .dataframe tbody tr th:only-of-type {\n",
       "        vertical-align: middle;\n",
       "    }\n",
       "\n",
       "    .dataframe tbody tr th {\n",
       "        vertical-align: top;\n",
       "    }\n",
       "\n",
       "    .dataframe thead th {\n",
       "        text-align: right;\n",
       "    }\n",
       "</style>\n",
       "<table border=\"1\" class=\"dataframe\">\n",
       "  <thead>\n",
       "    <tr style=\"text-align: right;\">\n",
       "      <th></th>\n",
       "      <th>bds</th>\n",
       "      <th>ba</th>\n",
       "      <th>City</th>\n",
       "      <th>State</th>\n",
       "      <th>Zip</th>\n",
       "      <th>Sqft</th>\n",
       "      <th>Price</th>\n",
       "    </tr>\n",
       "  </thead>\n",
       "  <tbody>\n",
       "    <tr>\n",
       "      <th>0</th>\n",
       "      <td>3</td>\n",
       "      <td>3</td>\n",
       "      <td>Jamaica</td>\n",
       "      <td>NY</td>\n",
       "      <td>11434</td>\n",
       "      <td>1280</td>\n",
       "      <td>599900</td>\n",
       "    </tr>\n",
       "    <tr>\n",
       "      <th>1</th>\n",
       "      <td>3</td>\n",
       "      <td>2</td>\n",
       "      <td>Staten Island</td>\n",
       "      <td>NY</td>\n",
       "      <td>10312</td>\n",
       "      <td>1512</td>\n",
       "      <td>599000</td>\n",
       "    </tr>\n",
       "    <tr>\n",
       "      <th>2</th>\n",
       "      <td>4</td>\n",
       "      <td>2</td>\n",
       "      <td>Brooklyn</td>\n",
       "      <td>NY</td>\n",
       "      <td>11203</td>\n",
       "      <td>1824</td>\n",
       "      <td>499000</td>\n",
       "    </tr>\n",
       "    <tr>\n",
       "      <th>3</th>\n",
       "      <td>7</td>\n",
       "      <td>3</td>\n",
       "      <td>Brooklyn</td>\n",
       "      <td>NY</td>\n",
       "      <td>11226</td>\n",
       "      <td>2184</td>\n",
       "      <td>680000</td>\n",
       "    </tr>\n",
       "    <tr>\n",
       "      <th>4</th>\n",
       "      <td>--</td>\n",
       "      <td>--</td>\n",
       "      <td>New York</td>\n",
       "      <td>NY</td>\n",
       "      <td>10017</td>\n",
       "      <td></td>\n",
       "      <td>100000</td>\n",
       "    </tr>\n",
       "    <tr>\n",
       "      <th>...</th>\n",
       "      <td>...</td>\n",
       "      <td>...</td>\n",
       "      <td>...</td>\n",
       "      <td>...</td>\n",
       "      <td>...</td>\n",
       "      <td>...</td>\n",
       "      <td>...</td>\n",
       "    </tr>\n",
       "    <tr>\n",
       "      <th>155</th>\n",
       "      <td>2,132</td>\n",
       "      <td>NaN</td>\n",
       "      <td>Staten Island</td>\n",
       "      <td>NY</td>\n",
       "      <td>10305</td>\n",
       "      <td>NaN</td>\n",
       "      <td>160000</td>\n",
       "    </tr>\n",
       "    <tr>\n",
       "      <th>156</th>\n",
       "      <td>3</td>\n",
       "      <td>3</td>\n",
       "      <td>Staten Island</td>\n",
       "      <td>NY</td>\n",
       "      <td>10304</td>\n",
       "      <td>1350</td>\n",
       "      <td>689000</td>\n",
       "    </tr>\n",
       "    <tr>\n",
       "      <th>157</th>\n",
       "      <td>3</td>\n",
       "      <td>3</td>\n",
       "      <td>New York</td>\n",
       "      <td>NY</td>\n",
       "      <td>10128</td>\n",
       "      <td>116270</td>\n",
       "      <td>2750000</td>\n",
       "    </tr>\n",
       "    <tr>\n",
       "      <th>158</th>\n",
       "      <td>4</td>\n",
       "      <td>3</td>\n",
       "      <td>Flushing</td>\n",
       "      <td>NY</td>\n",
       "      <td>11354</td>\n",
       "      <td>2750</td>\n",
       "      <td>1538000</td>\n",
       "    </tr>\n",
       "    <tr>\n",
       "      <th>159</th>\n",
       "      <td>5</td>\n",
       "      <td>3</td>\n",
       "      <td>Brooklyn</td>\n",
       "      <td>NY</td>\n",
       "      <td>11207</td>\n",
       "      <td>1134</td>\n",
       "      <td>599000</td>\n",
       "    </tr>\n",
       "  </tbody>\n",
       "</table>\n",
       "<p>160 rows × 7 columns</p>\n",
       "</div>"
      ],
      "text/plain": [
       "       bds   ba           City State    Zip    Sqft    Price\n",
       "0        3    3        Jamaica    NY  11434    1280   599900\n",
       "1        3    2  Staten Island    NY  10312    1512   599000\n",
       "2        4    2       Brooklyn    NY  11203    1824   499000\n",
       "3        7    3       Brooklyn    NY  11226    2184   680000\n",
       "4       --   --       New York    NY  10017           100000\n",
       "..     ...  ...            ...   ...    ...     ...      ...\n",
       "155  2,132  NaN  Staten Island    NY  10305     NaN   160000\n",
       "156      3    3  Staten Island    NY  10304    1350   689000\n",
       "157      3    3       New York    NY  10128  116270  2750000\n",
       "158      4    3       Flushing    NY  11354    2750  1538000\n",
       "159      5    3       Brooklyn    NY  11207    1134   599000\n",
       "\n",
       "[160 rows x 7 columns]"
      ]
     },
     "execution_count": 17,
     "metadata": {},
     "output_type": "execute_result"
    }
   ],
   "source": [
    "data"
   ]
  },
  {
   "cell_type": "code",
   "execution_count": 18,
   "metadata": {},
   "outputs": [
    {
     "data": {
      "text/plain": [
       "bds      object\n",
       "ba       object\n",
       "City     object\n",
       "State    object\n",
       "Zip      object\n",
       "Sqft     object\n",
       "Price    object\n",
       "dtype: object"
      ]
     },
     "execution_count": 18,
     "metadata": {},
     "output_type": "execute_result"
    }
   ],
   "source": [
    "#Converting the numerical objects into integers \n",
    "data.dtypes"
   ]
  },
  {
   "cell_type": "code",
   "execution_count": 19,
   "metadata": {},
   "outputs": [],
   "source": [
    "#Zip, sqft, price data type is converted to int from object\n",
    "data['Zip'] = pd.to_numeric(data['Zip'])\n",
    "data['Sqft'] = pd.to_numeric(data['Sqft'])\n",
    "data['Price'] = pd.to_numeric(data['Price'])"
   ]
  },
  {
   "cell_type": "code",
   "execution_count": 21,
   "metadata": {},
   "outputs": [
    {
     "data": {
      "text/plain": [
       "bds       object\n",
       "ba        object\n",
       "City      object\n",
       "State     object\n",
       "Zip        int64\n",
       "Sqft     float64\n",
       "Price      int64\n",
       "dtype: object"
      ]
     },
     "execution_count": 21,
     "metadata": {},
     "output_type": "execute_result"
    }
   ],
   "source": [
    "data.dtypes"
   ]
  },
  {
   "cell_type": "code",
   "execution_count": 22,
   "metadata": {},
   "outputs": [
    {
     "name": "stdout",
     "output_type": "stream",
     "text": [
      "<class 'pandas.core.frame.DataFrame'>\n",
      "RangeIndex: 160 entries, 0 to 159\n",
      "Data columns (total 7 columns):\n",
      "bds      160 non-null object\n",
      "ba       159 non-null object\n",
      "City     160 non-null object\n",
      "State    160 non-null object\n",
      "Zip      160 non-null int64\n",
      "Sqft     150 non-null float64\n",
      "Price    160 non-null int64\n",
      "dtypes: float64(1), int64(2), object(4)\n",
      "memory usage: 8.9+ KB\n"
     ]
    }
   ],
   "source": [
    "#Printing information about a column like dtype, non-null values, memory usage etc.\n",
    "data.info()"
   ]
  },
  {
   "cell_type": "code",
   "execution_count": 23,
   "metadata": {},
   "outputs": [
    {
     "data": {
      "text/plain": [
       "<matplotlib.axes._subplots.AxesSubplot at 0x7febae6f7400>"
      ]
     },
     "execution_count": 23,
     "metadata": {},
     "output_type": "execute_result"
    },
    {
     "data": {
      "image/png": "[encoded data removed]",
      "text/plain": [
       "<Figure size 432x288 with 1 Axes>"
      ]
     },
     "metadata": {
      "needs_background": "light"
     },
     "output_type": "display_data"
    }
   ],
   "source": [
    "#Visualizing using heatmap to find null values in the columns\n",
    "sns.heatmap(data.isnull(), yticklabels=False, cbar=False)"
   ]
  },
  {
   "cell_type": "code",
   "execution_count": 24,
   "metadata": {},
   "outputs": [],
   "source": [
    "#The above plot shows and the data.info shows that there are 1 null values in each ba and sqft features"
   ]
  },
  {
   "cell_type": "code",
   "execution_count": 25,
   "metadata": {},
   "outputs": [],
   "source": [
    "#Handling the null values"
   ]
  },
  {
   "cell_type": "code",
   "execution_count": 26,
   "metadata": {},
   "outputs": [],
   "source": [
    "#Dropping null values as there is only one null value in column ba and\n",
    "#there is no method to adjust the values of sqft as it can result in false results of some properties prices so dropping them too.\n",
    "data.dropna(inplace=True)"
   ]
  },
  {
   "cell_type": "code",
   "execution_count": 27,
   "metadata": {},
   "outputs": [
    {
     "name": "stdout",
     "output_type": "stream",
     "text": [
      "<class 'pandas.core.frame.DataFrame'>\n",
      "Int64Index: 150 entries, 0 to 159\n",
      "Data columns (total 7 columns):\n",
      "bds      150 non-null object\n",
      "ba       150 non-null object\n",
      "City     150 non-null object\n",
      "State    150 non-null object\n",
      "Zip      150 non-null int64\n",
      "Sqft     150 non-null float64\n",
      "Price    150 non-null int64\n",
      "dtypes: float64(1), int64(2), object(4)\n",
      "memory usage: 9.4+ KB\n"
     ]
    }
   ],
   "source": [
    "data.info()"
   ]
  },
  {
   "cell_type": "code",
   "execution_count": 28,
   "metadata": {},
   "outputs": [
    {
     "data": {
      "text/html": [
       "<div>\n",
       "<style scoped>\n",
       "    .dataframe tbody tr th:only-of-type {\n",
       "        vertical-align: middle;\n",
       "    }\n",
       "\n",
       "    .dataframe tbody tr th {\n",
       "        vertical-align: top;\n",
       "    }\n",
       "\n",
       "    .dataframe thead th {\n",
       "        text-align: right;\n",
       "    }\n",
       "</style>\n",
       "<table border=\"1\" class=\"dataframe\">\n",
       "  <thead>\n",
       "    <tr style=\"text-align: right;\">\n",
       "      <th></th>\n",
       "      <th>bds</th>\n",
       "      <th>ba</th>\n",
       "      <th>City</th>\n",
       "      <th>State</th>\n",
       "      <th>Zip</th>\n",
       "      <th>Sqft</th>\n",
       "      <th>Price</th>\n",
       "    </tr>\n",
       "  </thead>\n",
       "  <tbody>\n",
       "    <tr>\n",
       "      <th>0</th>\n",
       "      <td>3</td>\n",
       "      <td>3</td>\n",
       "      <td>Jamaica</td>\n",
       "      <td>NY</td>\n",
       "      <td>11434</td>\n",
       "      <td>1280.0</td>\n",
       "      <td>599900</td>\n",
       "    </tr>\n",
       "    <tr>\n",
       "      <th>1</th>\n",
       "      <td>3</td>\n",
       "      <td>2</td>\n",
       "      <td>Staten Island</td>\n",
       "      <td>NY</td>\n",
       "      <td>10312</td>\n",
       "      <td>1512.0</td>\n",
       "      <td>599000</td>\n",
       "    </tr>\n",
       "    <tr>\n",
       "      <th>2</th>\n",
       "      <td>4</td>\n",
       "      <td>2</td>\n",
       "      <td>Brooklyn</td>\n",
       "      <td>NY</td>\n",
       "      <td>11203</td>\n",
       "      <td>1824.0</td>\n",
       "      <td>499000</td>\n",
       "    </tr>\n",
       "    <tr>\n",
       "      <th>3</th>\n",
       "      <td>7</td>\n",
       "      <td>3</td>\n",
       "      <td>Brooklyn</td>\n",
       "      <td>NY</td>\n",
       "      <td>11226</td>\n",
       "      <td>2184.0</td>\n",
       "      <td>680000</td>\n",
       "    </tr>\n",
       "    <tr>\n",
       "      <th>5</th>\n",
       "      <td>4</td>\n",
       "      <td>1</td>\n",
       "      <td>Yonkers</td>\n",
       "      <td>NY</td>\n",
       "      <td>10705</td>\n",
       "      <td>1945.0</td>\n",
       "      <td>288000</td>\n",
       "    </tr>\n",
       "    <tr>\n",
       "      <th>...</th>\n",
       "      <td>...</td>\n",
       "      <td>...</td>\n",
       "      <td>...</td>\n",
       "      <td>...</td>\n",
       "      <td>...</td>\n",
       "      <td>...</td>\n",
       "      <td>...</td>\n",
       "    </tr>\n",
       "    <tr>\n",
       "      <th>154</th>\n",
       "      <td>5</td>\n",
       "      <td>3</td>\n",
       "      <td>Brooklyn</td>\n",
       "      <td>NY</td>\n",
       "      <td>11215</td>\n",
       "      <td>2619.0</td>\n",
       "      <td>3900000</td>\n",
       "    </tr>\n",
       "    <tr>\n",
       "      <th>156</th>\n",
       "      <td>3</td>\n",
       "      <td>3</td>\n",
       "      <td>Staten Island</td>\n",
       "      <td>NY</td>\n",
       "      <td>10304</td>\n",
       "      <td>1350.0</td>\n",
       "      <td>689000</td>\n",
       "    </tr>\n",
       "    <tr>\n",
       "      <th>157</th>\n",
       "      <td>3</td>\n",
       "      <td>3</td>\n",
       "      <td>New York</td>\n",
       "      <td>NY</td>\n",
       "      <td>10128</td>\n",
       "      <td>116270.0</td>\n",
       "      <td>2750000</td>\n",
       "    </tr>\n",
       "    <tr>\n",
       "      <th>158</th>\n",
       "      <td>4</td>\n",
       "      <td>3</td>\n",
       "      <td>Flushing</td>\n",
       "      <td>NY</td>\n",
       "      <td>11354</td>\n",
       "      <td>2750.0</td>\n",
       "      <td>1538000</td>\n",
       "    </tr>\n",
       "    <tr>\n",
       "      <th>159</th>\n",
       "      <td>5</td>\n",
       "      <td>3</td>\n",
       "      <td>Brooklyn</td>\n",
       "      <td>NY</td>\n",
       "      <td>11207</td>\n",
       "      <td>1134.0</td>\n",
       "      <td>599000</td>\n",
       "    </tr>\n",
       "  </tbody>\n",
       "</table>\n",
       "<p>150 rows × 7 columns</p>\n",
       "</div>"
      ],
      "text/plain": [
       "    bds ba           City State    Zip      Sqft    Price\n",
       "0     3  3        Jamaica    NY  11434    1280.0   599900\n",
       "1     3  2  Staten Island    NY  10312    1512.0   599000\n",
       "2     4  2       Brooklyn    NY  11203    1824.0   499000\n",
       "3     7  3       Brooklyn    NY  11226    2184.0   680000\n",
       "5     4  1        Yonkers    NY  10705    1945.0   288000\n",
       "..   .. ..            ...   ...    ...       ...      ...\n",
       "154   5  3       Brooklyn    NY  11215    2619.0  3900000\n",
       "156   3  3  Staten Island    NY  10304    1350.0   689000\n",
       "157   3  3       New York    NY  10128  116270.0  2750000\n",
       "158   4  3       Flushing    NY  11354    2750.0  1538000\n",
       "159   5  3       Brooklyn    NY  11207    1134.0   599000\n",
       "\n",
       "[150 rows x 7 columns]"
      ]
     },
     "execution_count": 28,
     "metadata": {},
     "output_type": "execute_result"
    }
   ],
   "source": [
    "data"
   ]
  },
  {
   "cell_type": "code",
   "execution_count": 29,
   "metadata": {},
   "outputs": [],
   "source": [
    "#Converting column BA to numeric from object\n",
    "data['ba'] = pd.to_numeric(data['ba'])"
   ]
  },
  {
   "cell_type": "code",
   "execution_count": 66,
   "metadata": {},
   "outputs": [],
   "source": [
    "data['ba'] = data['ba'].apply(np.int64)"
   ]
  },
  {
   "cell_type": "code",
   "execution_count": 67,
   "metadata": {},
   "outputs": [
    {
     "data": {
      "text/plain": [
       "bds       object\n",
       "ba         int64\n",
       "City      object\n",
       "State     object\n",
       "Zip        int64\n",
       "Sqft     float64\n",
       "Price      int64\n",
       "dtype: object"
      ]
     },
     "execution_count": 67,
     "metadata": {},
     "output_type": "execute_result"
    }
   ],
   "source": [
    "data.dtypes"
   ]
  },
  {
   "cell_type": "code",
   "execution_count": 32,
   "metadata": {},
   "outputs": [],
   "source": [
    "#BDS Column cannot be converted to an integer column as there are Studio appartments too in the dataset"
   ]
  },
  {
   "cell_type": "code",
   "execution_count": 33,
   "metadata": {},
   "outputs": [],
   "source": [
    "#Function to increase the size of plots\n",
    "def big():\n",
    "    plt.figure(figsize=(15,8))"
   ]
  },
  {
   "cell_type": "code",
   "execution_count": 34,
   "metadata": {},
   "outputs": [],
   "source": [
    "#Now, exploring each column and making changes as required for some values."
   ]
  },
  {
   "cell_type": "code",
   "execution_count": 35,
   "metadata": {},
   "outputs": [
    {
     "data": {
      "text/plain": [
       "array(['3', '4', '7', '1', '2', '6', '5', '8', 'Studio', '--'],\n",
       "      dtype=object)"
      ]
     },
     "execution_count": 35,
     "metadata": {},
     "output_type": "execute_result"
    }
   ],
   "source": [
    "#Checking the unique values in the column bds\n",
    "data['bds'].unique()"
   ]
  },
  {
   "cell_type": "code",
   "execution_count": 82,
   "metadata": {},
   "outputs": [],
   "source": [
    "#Removing the unnecessary value from the dataset\n",
    "y = data[data['bds'] == '--']\n",
    "data.drop(y.index, inplace=True)"
   ]
  },
  {
   "cell_type": "code",
   "execution_count": 83,
   "metadata": {},
   "outputs": [
    {
     "data": {
      "text/plain": [
       "<matplotlib.axes._subplots.AxesSubplot at 0x7feb94856b38>"
      ]
     },
     "execution_count": 83,
     "metadata": {},
     "output_type": "execute_result"
    },
    {
     "data": {
      "image/png": "[encoded data removed]",
      "text/plain": [
       "<Figure size 1080x576 with 1 Axes>"
      ]
     },
     "metadata": {
      "needs_background": "light"
     },
     "output_type": "display_data"
    }
   ],
   "source": [
    "#Visualising the unique values in the column bds with the helo of seaborn countplot which plots the unique values as per their frequencies in the dataset.\n",
    "big()\n",
    "sns.countplot(x='bds', data=data)"
   ]
  },
  {
   "cell_type": "code",
   "execution_count": null,
   "metadata": {},
   "outputs": [],
   "source": [
    "#The above plot implies that the number of flats with 3 bedrooms are the most and least with 8 bedrooms."
   ]
  },
  {
   "cell_type": "code",
   "execution_count": 191,
   "metadata": {},
   "outputs": [
    {
     "data": {
      "text/plain": [
       "array([3, 2, 1, 5, 4])"
      ]
     },
     "execution_count": 191,
     "metadata": {},
     "output_type": "execute_result"
    }
   ],
   "source": [
    "#Checking the unique values in the column ba\n",
    "data['ba'].unique()"
   ]
  },
  {
   "cell_type": "code",
   "execution_count": 70,
   "metadata": {},
   "outputs": [
    {
     "data": {
      "text/plain": [
       "<matplotlib.axes._subplots.AxesSubplot at 0x7febb2051c50>"
      ]
     },
     "execution_count": 70,
     "metadata": {},
     "output_type": "execute_result"
    },
    {
     "data": {
      "image/png": "[encoded data removed]",
      "text/plain": [
       "<Figure size 1080x576 with 1 Axes>"
      ]
     },
     "metadata": {
      "needs_background": "light"
     },
     "output_type": "display_data"
    }
   ],
   "source": [
    "#Visualising the unique values in the column ba with the help of seaborn countplot\n",
    "big()\n",
    "sns.countplot(x='ba', data=data)"
   ]
  },
  {
   "cell_type": "code",
   "execution_count": null,
   "metadata": {},
   "outputs": [],
   "source": [
    "#The above plot implies that the number of flats with 2 bathrooms are the most and least with 5 bathrooms"
   ]
  },
  {
   "cell_type": "code",
   "execution_count": 84,
   "metadata": {},
   "outputs": [
    {
     "data": {
      "text/plain": [
       "array(['Jamaica', 'Staten Island', 'Brooklyn', 'Yonkers', 'New York',\n",
       "       'Briarwood', 'Glendale', 'South Ozone Park', 'Bronx', 'Flushing',\n",
       "       'Rego Park', 'Broad Channel', 'Bayside', 'Astoria', 'Saint Albans',\n",
       "       'Fresh Meadows', 'Bellerose Manor', 'Rockaway Park',\n",
       "       'Far Rockaway', 'Queens', 'Howard Beach', 'Belle Harbor',\n",
       "       'Middle Village', 'Corona', 'Forest Hills', 'Long Island City',\n",
       "       'Woodhaven'], dtype=object)"
      ]
     },
     "execution_count": 84,
     "metadata": {},
     "output_type": "execute_result"
    }
   ],
   "source": [
    "#Checking the unique values in the column City\n",
    "data['City'].unique()"
   ]
  },
  {
   "cell_type": "code",
   "execution_count": 85,
   "metadata": {},
   "outputs": [
    {
     "data": {
      "text/plain": [
       "[Text(0, 0, 'Jamaica'),\n",
       " Text(0, 0, 'Staten Island'),\n",
       " Text(0, 0, 'Brooklyn'),\n",
       " Text(0, 0, 'Yonkers'),\n",
       " Text(0, 0, 'New York'),\n",
       " Text(0, 0, 'Briarwood'),\n",
       " Text(0, 0, 'Glendale'),\n",
       " Text(0, 0, 'South Ozone Park'),\n",
       " Text(0, 0, 'Bronx'),\n",
       " Text(0, 0, 'Flushing'),\n",
       " Text(0, 0, 'Rego Park'),\n",
       " Text(0, 0, 'Broad Channel'),\n",
       " Text(0, 0, 'Bayside'),\n",
       " Text(0, 0, 'Astoria'),\n",
       " Text(0, 0, 'Saint Albans'),\n",
       " Text(0, 0, 'Fresh Meadows'),\n",
       " Text(0, 0, 'Bellerose Manor'),\n",
       " Text(0, 0, 'Rockaway Park'),\n",
       " Text(0, 0, 'Far Rockaway'),\n",
       " Text(0, 0, 'Queens'),\n",
       " Text(0, 0, 'Howard Beach'),\n",
       " Text(0, 0, 'Belle Harbor'),\n",
       " Text(0, 0, 'Middle Village'),\n",
       " Text(0, 0, 'Corona'),\n",
       " Text(0, 0, 'Forest Hills'),\n",
       " Text(0, 0, 'Long Island City'),\n",
       " Text(0, 0, 'Woodhaven')]"
      ]
     },
     "execution_count": 85,
     "metadata": {},
     "output_type": "execute_result"
    },
    {
     "data": {
      "image/png": "[encoded data removed]",
      "text/plain": [
       "<Figure size 1080x576 with 1 Axes>"
      ]
     },
     "metadata": {
      "needs_background": "light"
     },
     "output_type": "display_data"
    }
   ],
   "source": [
    "#Visualising the unique values in the column city with the help of seaborn countplot \n",
    "big()\n",
    "plot = sns.countplot(x='City', data=data)\n",
    "plot.set_xticklabels(plot.get_xticklabels(), rotation=30, horizontalalignment='right', fontweight='light',\n",
    "    fontsize='x-large')"
   ]
  },
  {
   "cell_type": "code",
   "execution_count": null,
   "metadata": {},
   "outputs": [],
   "source": [
    "#The above plot implies that Brooklyn has the most number of flats that are on sale.\n",
    "#And, the cities with the least number of flats are Yonkers, Briarwood, Glendale, South Ozone Park,\n",
    "#Rego Park, Astoria, Saint Albans, Fresh Meadows, Bellerose Manor, Queens, Belle Harbor, Middle Village, \n",
    "#Corona, Forest Hills, Long Island City, Woodhaven"
   ]
  },
  {
   "cell_type": "code",
   "execution_count": 49,
   "metadata": {},
   "outputs": [
    {
     "data": {
      "text/html": [
       "<div>\n",
       "<style scoped>\n",
       "    .dataframe tbody tr th:only-of-type {\n",
       "        vertical-align: middle;\n",
       "    }\n",
       "\n",
       "    .dataframe tbody tr th {\n",
       "        vertical-align: top;\n",
       "    }\n",
       "\n",
       "    .dataframe thead th {\n",
       "        text-align: right;\n",
       "    }\n",
       "</style>\n",
       "<table border=\"1\" class=\"dataframe\">\n",
       "  <thead>\n",
       "    <tr style=\"text-align: right;\">\n",
       "      <th></th>\n",
       "      <th>bds</th>\n",
       "      <th>ba</th>\n",
       "      <th>City</th>\n",
       "      <th>State</th>\n",
       "      <th>Zip</th>\n",
       "      <th>Sqft</th>\n",
       "      <th>Price</th>\n",
       "    </tr>\n",
       "  </thead>\n",
       "  <tbody>\n",
       "    <tr>\n",
       "      <th>66</th>\n",
       "      <td>4</td>\n",
       "      <td>2.0</td>\n",
       "      <td>Voluntown</td>\n",
       "      <td>CT</td>\n",
       "      <td>6384</td>\n",
       "      <td>1550.0</td>\n",
       "      <td>595000</td>\n",
       "    </tr>\n",
       "  </tbody>\n",
       "</table>\n",
       "</div>"
      ],
      "text/plain": [
       "   bds   ba       City State   Zip    Sqft   Price\n",
       "66   4  2.0  Voluntown    CT  6384  1550.0  595000"
      ]
     },
     "execution_count": 49,
     "metadata": {},
     "output_type": "execute_result"
    }
   ],
   "source": [
    "#There is one property which is not present in NY and instead in CT which has no use as the dataset is based on the properties in the New York state of the USA.\n",
    "data[data['State'] == 'CT']"
   ]
  },
  {
   "cell_type": "code",
   "execution_count": 55,
   "metadata": {},
   "outputs": [],
   "source": [
    "#Removing the error value in the State column\n",
    "x = data[data['State'] == 'CT']\n",
    "data.drop(x.index, inplace=True)"
   ]
  },
  {
   "cell_type": "code",
   "execution_count": 56,
   "metadata": {},
   "outputs": [
    {
     "data": {
      "text/plain": [
       "NY    149\n",
       "Name: State, dtype: int64"
      ]
     },
     "execution_count": 56,
     "metadata": {},
     "output_type": "execute_result"
    }
   ],
   "source": [
    "data['State'].value_counts()"
   ]
  },
  {
   "cell_type": "code",
   "execution_count": 87,
   "metadata": {},
   "outputs": [
    {
     "data": {
      "text/plain": [
       "array([11434, 10312, 11203, 11226, 10705, 10017, 11435, 11228, 10002,\n",
       "       10044, 10306, 11385, 11207, 10030, 11420, 10460, 10469, 10023,\n",
       "       10065, 10314, 10466, 10307, 10305, 11367, 11360, 11234, 11201,\n",
       "       11374, 10021, 11693, 11361, 11106, 11412, 11218, 11368, 10024,\n",
       "       11231, 11229, 11365, 10309, 11208, 10025, 10301, 11238, 11377,\n",
       "       11355, 11370, 11427, 10459, 10016, 11694, 11416, 11364, 11357,\n",
       "       10010, 11204, 11691, 11362, 10011, 11215, 11210, 11417, 11414,\n",
       "       11354, 11233, 11209, 11423, 11358, 10462, 10471, 11418, 11379,\n",
       "       10467, 11373, 10310, 11214, 11375, 10304, 11422, 11223, 11230,\n",
       "       10028, 10461, 11378, 10464, 11421, 10128])"
      ]
     },
     "execution_count": 87,
     "metadata": {},
     "output_type": "execute_result"
    }
   ],
   "source": [
    "#Unique values in Zip column\n",
    "data['Zip'].unique()"
   ]
  },
  {
   "cell_type": "code",
   "execution_count": 88,
   "metadata": {},
   "outputs": [
    {
     "data": {
      "text/plain": [
       "array([  1280.,   1512.,   1824.,   2184.,   1945.,    550.,   1100.,\n",
       "         3420.,  14425.,   2000.,    962.,   1314.,   3000.,    704.,\n",
       "          900.,   1372.,    980.,   3200.,   2500.,   1507.,   1700.,\n",
       "         1508.,    800.,   1008.,   3450.,   1374.,   1000.,   3187.,\n",
       "         1120.,    750.,   3560.,   1584.,   1200.,   1400.,    500.,\n",
       "         2100.,   1578.,    680.,    850.,   1300.,   2300.,   1250.,\n",
       "          904.,   2080.,   1232.,   2200.,   1349.,   4200.,   2308.,\n",
       "         1777.,   1616.,   1086.,   2122.,   1665.,   2381.,   2012.,\n",
       "          821.,    571.,   1550.,    600.,   1720.,   2064.,    700.,\n",
       "          350.,   1233.,   1968.,   2604.,   5500.,   3300.,   1317.,\n",
       "         1045.,   2564.,    810.,   1248.,   1287.,   2400.,   1800.,\n",
       "         2995.,    650.,   3500.,   2150.,   2144.,   2190.,   2786.,\n",
       "          950.,   1960.,   1889.,   2104.,    940.,   1530.,   2328.,\n",
       "         2196.,    991.,   1440.,    915.,   1239.,   1500.,   2649.,\n",
       "         1690.,    400.,   1744.,   1600.,   2250.,   1672.,   2800.,\n",
       "          300.,   3028.,   1036.,    584.,   1208.,   2619.,   1350.,\n",
       "       116270.,   2750.,   1134.])"
      ]
     },
     "execution_count": 88,
     "metadata": {},
     "output_type": "execute_result"
    }
   ],
   "source": [
    "#Unique values in Sqft column\n",
    "data['Sqft'].unique()"
   ]
  },
  {
   "cell_type": "code",
   "execution_count": 89,
   "metadata": {},
   "outputs": [
    {
     "data": {
      "text/plain": [
       "(148, 7)"
      ]
     },
     "execution_count": 89,
     "metadata": {},
     "output_type": "execute_result"
    }
   ],
   "source": [
    "#Number of rows and columns in the data set after the clensing of dataset\n",
    "data.shape #The result is interpreted as (Rows, Columns)"
   ]
  },
  {
   "cell_type": "markdown",
   "metadata": {},
   "source": [
    "# Exploratory Data Analysis"
   ]
  },
  {
   "cell_type": "code",
   "execution_count": 90,
   "metadata": {},
   "outputs": [
    {
     "data": {
      "text/html": [
       "<div>\n",
       "<style scoped>\n",
       "    .dataframe tbody tr th:only-of-type {\n",
       "        vertical-align: middle;\n",
       "    }\n",
       "\n",
       "    .dataframe tbody tr th {\n",
       "        vertical-align: top;\n",
       "    }\n",
       "\n",
       "    .dataframe thead th {\n",
       "        text-align: right;\n",
       "    }\n",
       "</style>\n",
       "<table border=\"1\" class=\"dataframe\">\n",
       "  <thead>\n",
       "    <tr style=\"text-align: right;\">\n",
       "      <th></th>\n",
       "      <th>bds</th>\n",
       "      <th>ba</th>\n",
       "      <th>City</th>\n",
       "      <th>State</th>\n",
       "      <th>Zip</th>\n",
       "      <th>Sqft</th>\n",
       "      <th>Price</th>\n",
       "    </tr>\n",
       "  </thead>\n",
       "  <tbody>\n",
       "    <tr>\n",
       "      <th>0</th>\n",
       "      <td>3</td>\n",
       "      <td>3</td>\n",
       "      <td>Jamaica</td>\n",
       "      <td>NY</td>\n",
       "      <td>11434</td>\n",
       "      <td>1280.0</td>\n",
       "      <td>599900</td>\n",
       "    </tr>\n",
       "    <tr>\n",
       "      <th>1</th>\n",
       "      <td>3</td>\n",
       "      <td>2</td>\n",
       "      <td>Staten Island</td>\n",
       "      <td>NY</td>\n",
       "      <td>10312</td>\n",
       "      <td>1512.0</td>\n",
       "      <td>599000</td>\n",
       "    </tr>\n",
       "    <tr>\n",
       "      <th>2</th>\n",
       "      <td>4</td>\n",
       "      <td>2</td>\n",
       "      <td>Brooklyn</td>\n",
       "      <td>NY</td>\n",
       "      <td>11203</td>\n",
       "      <td>1824.0</td>\n",
       "      <td>499000</td>\n",
       "    </tr>\n",
       "    <tr>\n",
       "      <th>3</th>\n",
       "      <td>7</td>\n",
       "      <td>3</td>\n",
       "      <td>Brooklyn</td>\n",
       "      <td>NY</td>\n",
       "      <td>11226</td>\n",
       "      <td>2184.0</td>\n",
       "      <td>680000</td>\n",
       "    </tr>\n",
       "    <tr>\n",
       "      <th>5</th>\n",
       "      <td>4</td>\n",
       "      <td>1</td>\n",
       "      <td>Yonkers</td>\n",
       "      <td>NY</td>\n",
       "      <td>10705</td>\n",
       "      <td>1945.0</td>\n",
       "      <td>288000</td>\n",
       "    </tr>\n",
       "  </tbody>\n",
       "</table>\n",
       "</div>"
      ],
      "text/plain": [
       "  bds  ba           City State    Zip    Sqft   Price\n",
       "0   3   3        Jamaica    NY  11434  1280.0  599900\n",
       "1   3   2  Staten Island    NY  10312  1512.0  599000\n",
       "2   4   2       Brooklyn    NY  11203  1824.0  499000\n",
       "3   7   3       Brooklyn    NY  11226  2184.0  680000\n",
       "5   4   1        Yonkers    NY  10705  1945.0  288000"
      ]
     },
     "execution_count": 90,
     "metadata": {},
     "output_type": "execute_result"
    }
   ],
   "source": [
    "#First five values of the dataset\n",
    "data.head()"
   ]
  },
  {
   "cell_type": "code",
   "execution_count": 91,
   "metadata": {},
   "outputs": [
    {
     "data": {
      "text/html": [
       "<div>\n",
       "<style scoped>\n",
       "    .dataframe tbody tr th:only-of-type {\n",
       "        vertical-align: middle;\n",
       "    }\n",
       "\n",
       "    .dataframe tbody tr th {\n",
       "        vertical-align: top;\n",
       "    }\n",
       "\n",
       "    .dataframe thead th {\n",
       "        text-align: right;\n",
       "    }\n",
       "</style>\n",
       "<table border=\"1\" class=\"dataframe\">\n",
       "  <thead>\n",
       "    <tr style=\"text-align: right;\">\n",
       "      <th></th>\n",
       "      <th>bds</th>\n",
       "      <th>ba</th>\n",
       "      <th>City</th>\n",
       "      <th>State</th>\n",
       "      <th>Zip</th>\n",
       "      <th>Sqft</th>\n",
       "      <th>Price</th>\n",
       "    </tr>\n",
       "  </thead>\n",
       "  <tbody>\n",
       "    <tr>\n",
       "      <th>154</th>\n",
       "      <td>5</td>\n",
       "      <td>3</td>\n",
       "      <td>Brooklyn</td>\n",
       "      <td>NY</td>\n",
       "      <td>11215</td>\n",
       "      <td>2619.0</td>\n",
       "      <td>3900000</td>\n",
       "    </tr>\n",
       "    <tr>\n",
       "      <th>156</th>\n",
       "      <td>3</td>\n",
       "      <td>3</td>\n",
       "      <td>Staten Island</td>\n",
       "      <td>NY</td>\n",
       "      <td>10304</td>\n",
       "      <td>1350.0</td>\n",
       "      <td>689000</td>\n",
       "    </tr>\n",
       "    <tr>\n",
       "      <th>157</th>\n",
       "      <td>3</td>\n",
       "      <td>3</td>\n",
       "      <td>New York</td>\n",
       "      <td>NY</td>\n",
       "      <td>10128</td>\n",
       "      <td>116270.0</td>\n",
       "      <td>2750000</td>\n",
       "    </tr>\n",
       "    <tr>\n",
       "      <th>158</th>\n",
       "      <td>4</td>\n",
       "      <td>3</td>\n",
       "      <td>Flushing</td>\n",
       "      <td>NY</td>\n",
       "      <td>11354</td>\n",
       "      <td>2750.0</td>\n",
       "      <td>1538000</td>\n",
       "    </tr>\n",
       "    <tr>\n",
       "      <th>159</th>\n",
       "      <td>5</td>\n",
       "      <td>3</td>\n",
       "      <td>Brooklyn</td>\n",
       "      <td>NY</td>\n",
       "      <td>11207</td>\n",
       "      <td>1134.0</td>\n",
       "      <td>599000</td>\n",
       "    </tr>\n",
       "  </tbody>\n",
       "</table>\n",
       "</div>"
      ],
      "text/plain": [
       "    bds  ba           City State    Zip      Sqft    Price\n",
       "154   5   3       Brooklyn    NY  11215    2619.0  3900000\n",
       "156   3   3  Staten Island    NY  10304    1350.0   689000\n",
       "157   3   3       New York    NY  10128  116270.0  2750000\n",
       "158   4   3       Flushing    NY  11354    2750.0  1538000\n",
       "159   5   3       Brooklyn    NY  11207    1134.0   599000"
      ]
     },
     "execution_count": 91,
     "metadata": {},
     "output_type": "execute_result"
    }
   ],
   "source": [
    "#Last five values of the dataset\n",
    "data.tail()"
   ]
  },
  {
   "cell_type": "code",
   "execution_count": 93,
   "metadata": {},
   "outputs": [
    {
     "data": {
      "text/html": [
       "<div>\n",
       "<style scoped>\n",
       "    .dataframe tbody tr th:only-of-type {\n",
       "        vertical-align: middle;\n",
       "    }\n",
       "\n",
       "    .dataframe tbody tr th {\n",
       "        vertical-align: top;\n",
       "    }\n",
       "\n",
       "    .dataframe thead th {\n",
       "        text-align: right;\n",
       "    }\n",
       "</style>\n",
       "<table border=\"1\" class=\"dataframe\">\n",
       "  <thead>\n",
       "    <tr style=\"text-align: right;\">\n",
       "      <th></th>\n",
       "      <th>ba</th>\n",
       "      <th>Zip</th>\n",
       "      <th>Sqft</th>\n",
       "      <th>Price</th>\n",
       "    </tr>\n",
       "  </thead>\n",
       "  <tbody>\n",
       "    <tr>\n",
       "      <th>count</th>\n",
       "      <td>148.000000</td>\n",
       "      <td>148.000000</td>\n",
       "      <td>148.000000</td>\n",
       "      <td>1.480000e+02</td>\n",
       "    </tr>\n",
       "    <tr>\n",
       "      <th>mean</th>\n",
       "      <td>2.216216</td>\n",
       "      <td>10930.445946</td>\n",
       "      <td>2517.317568</td>\n",
       "      <td>8.631850e+05</td>\n",
       "    </tr>\n",
       "    <tr>\n",
       "      <th>std</th>\n",
       "      <td>0.944303</td>\n",
       "      <td>542.166921</td>\n",
       "      <td>9510.495245</td>\n",
       "      <td>7.370552e+05</td>\n",
       "    </tr>\n",
       "    <tr>\n",
       "      <th>min</th>\n",
       "      <td>1.000000</td>\n",
       "      <td>10002.000000</td>\n",
       "      <td>300.000000</td>\n",
       "      <td>1.300000e+04</td>\n",
       "    </tr>\n",
       "    <tr>\n",
       "      <th>25%</th>\n",
       "      <td>1.000000</td>\n",
       "      <td>10312.000000</td>\n",
       "      <td>1029.000000</td>\n",
       "      <td>4.899750e+05</td>\n",
       "    </tr>\n",
       "    <tr>\n",
       "      <th>50%</th>\n",
       "      <td>2.000000</td>\n",
       "      <td>11218.000000</td>\n",
       "      <td>1507.500000</td>\n",
       "      <td>6.645000e+05</td>\n",
       "    </tr>\n",
       "    <tr>\n",
       "      <th>75%</th>\n",
       "      <td>3.000000</td>\n",
       "      <td>11367.250000</td>\n",
       "      <td>2158.500000</td>\n",
       "      <td>9.085000e+05</td>\n",
       "    </tr>\n",
       "    <tr>\n",
       "      <th>max</th>\n",
       "      <td>5.000000</td>\n",
       "      <td>11694.000000</td>\n",
       "      <td>116270.000000</td>\n",
       "      <td>5.400000e+06</td>\n",
       "    </tr>\n",
       "  </tbody>\n",
       "</table>\n",
       "</div>"
      ],
      "text/plain": [
       "               ba           Zip           Sqft         Price\n",
       "count  148.000000    148.000000     148.000000  1.480000e+02\n",
       "mean     2.216216  10930.445946    2517.317568  8.631850e+05\n",
       "std      0.944303    542.166921    9510.495245  7.370552e+05\n",
       "min      1.000000  10002.000000     300.000000  1.300000e+04\n",
       "25%      1.000000  10312.000000    1029.000000  4.899750e+05\n",
       "50%      2.000000  11218.000000    1507.500000  6.645000e+05\n",
       "75%      3.000000  11367.250000    2158.500000  9.085000e+05\n",
       "max      5.000000  11694.000000  116270.000000  5.400000e+06"
      ]
     },
     "execution_count": 93,
     "metadata": {},
     "output_type": "execute_result"
    }
   ],
   "source": [
    "#Calculating basic statistical data like mean, standard deviation, minimum value, maximum value of every integral column.\n",
    "data.describe()"
   ]
  },
  {
   "cell_type": "code",
   "execution_count": 98,
   "metadata": {},
   "outputs": [
    {
     "data": {
      "text/plain": [
       "<matplotlib.axes._subplots.AxesSubplot at 0x7feb9596ce80>"
      ]
     },
     "execution_count": 98,
     "metadata": {},
     "output_type": "execute_result"
    },
    {
     "data": {
      "image/png": "[encoded data removed]",
      "text/plain": [
       "<Figure size 1080x576 with 1 Axes>"
      ]
     },
     "metadata": {
      "needs_background": "light"
     },
     "output_type": "display_data"
    }
   ],
   "source": [
    "#A plot of Price vs Bedrooms (bds)\n",
    "big()\n",
    "sns.stripplot(x='bds', y='Price', data=data)"
   ]
  },
  {
   "cell_type": "code",
   "execution_count": null,
   "metadata": {},
   "outputs": [],
   "source": [
    "#The above plot helps to analyse the maximum number of bedrooms in a particular price range.\n",
    "#Maximum properties with bedrooms 3,4,1,2, and Studio had price range below $1,000,000.\n",
    "#And the number of properties above $1,000,000 are very few depending on the number of bedrooms."
   ]
  },
  {
   "cell_type": "code",
   "execution_count": 104,
   "metadata": {},
   "outputs": [
    {
     "data": {
      "text/plain": [
       "<matplotlib.axes._subplots.AxesSubplot at 0x7feb96480be0>"
      ]
     },
     "execution_count": 104,
     "metadata": {},
     "output_type": "execute_result"
    },
    {
     "data": {
      "image/png": "[encoded data removed]",
      "text/plain": [
       "<Figure size 1080x576 with 1 Axes>"
      ]
     },
     "metadata": {
      "needs_background": "light"
     },
     "output_type": "display_data"
    }
   ],
   "source": [
    "#A plot of Price vs Bathrooms(ba)\n",
    "big()\n",
    "sns.stripplot(x='ba', y='Price', data=data)"
   ]
  },
  {
   "cell_type": "code",
   "execution_count": null,
   "metadata": {},
   "outputs": [],
   "source": [
    "#The above plot helps to analyse the maximum number of bathrooms in a particular price range.\n",
    "#Maximum properties with bathrooms 1,2,3 had price range below $1,000,000.\n",
    "#And the number of properties with bathrooms 1,2,3 respectively had price above $1,000,000 are very.\n",
    "#The price range of properties with 4 bathroom startes approximately from $900,000 respectively."
   ]
  },
  {
   "cell_type": "code",
   "execution_count": 198,
   "metadata": {},
   "outputs": [
    {
     "data": {
      "text/plain": [
       "<matplotlib.axes._subplots.AxesSubplot at 0x7feb878cd860>"
      ]
     },
     "execution_count": 198,
     "metadata": {},
     "output_type": "execute_result"
    },
    {
     "data": {
      "image/png": "[encoded data removed]",
      "text/plain": [
       "<Figure size 1080x576 with 1 Axes>"
      ]
     },
     "metadata": {
      "needs_background": "light"
     },
     "output_type": "display_data"
    }
   ],
   "source": [
    "#Barplot of Price vs Bedrooms (bds) with respect to Bathrooms (ba)\n",
    "big()\n",
    "sns.barplot(x='bds', y='Price', data=data, hue='ba')"
   ]
  },
  {
   "cell_type": "markdown",
   "metadata": {},
   "source": [
    "#The barplot helps to analyse the number of properties with a particular number of bedrooms in a price range with respect to the number of bathrooms available in the property.\n",
    "#The properties with bedrooms 7,1,8, and Studios are available only with one type of bathroom. For example, all the properties with 7 bedrooms are available with 3 bathrooms only, there are no more or less number of bathrooms in different properties with 7 bedrooms.\n",
    "#The properties with bedrooms 3,2,6,5 has a variety of bathroom range available and the price range is below $1,000,000.\n",
    "#The property with 4 bedrooms has all the bathroom range availble in its price range.\n",
    "#The whiskers in each bar of the barplot shows the exceptional price range in the particular bedroom property."
   ]
  },
  {
   "cell_type": "code",
   "execution_count": 115,
   "metadata": {},
   "outputs": [
    {
     "data": {
      "text/plain": [
       "<seaborn.axisgrid.PairGrid at 0x7feb9bb81160>"
      ]
     },
     "execution_count": 115,
     "metadata": {},
     "output_type": "execute_result"
    },
    {
     "data": {
      "text/plain": [
       "<Figure size 1080x576 with 0 Axes>"
      ]
     },
     "metadata": {},
     "output_type": "display_data"
    },
    {
     "data": {
      "image/png": "[encoded data removed]",
      "text/plain": [
       "<Figure size 720x720 with 20 Axes>"
      ]
     },
     "metadata": {
      "needs_background": "light"
     },
     "output_type": "display_data"
    }
   ],
   "source": [
    "#Pairplot to find a distribution between a single variable and two variables\n",
    "big()\n",
    "sns.pairplot(data=data)"
   ]
  },
  {
   "cell_type": "code",
   "execution_count": 118,
   "metadata": {},
   "outputs": [
    {
     "data": {
      "text/plain": [
       "<matplotlib.axes._subplots.AxesSubplot at 0x7feb9d5dc630>"
      ]
     },
     "execution_count": 118,
     "metadata": {},
     "output_type": "execute_result"
    },
    {
     "data": {
      "image/png": "[encoded data removed]",
      "text/plain": [
       "<Figure size 1080x576 with 1 Axes>"
      ]
     },
     "metadata": {
      "needs_background": "light"
     },
     "output_type": "display_data"
    }
   ],
   "source": [
    "#Density plot for the column Price\n",
    "big()\n",
    "sns.kdeplot(data['Price'])"
   ]
  },
  {
   "cell_type": "code",
   "execution_count": null,
   "metadata": {},
   "outputs": [],
   "source": [
    "#The above plot gave an insight about the price distribution for the properties across the state New York.\n",
    "#The most number of properties have a price range between $500,000 to $11,000,000.\n",
    "#The range of properties are second highest from $11,000,000 to $20,00,000.\n",
    "#The most expensive properties are very limited in number which have a price approximately more than $25,00,000."
   ]
  },
  {
   "cell_type": "code",
   "execution_count": 120,
   "metadata": {},
   "outputs": [
    {
     "data": {
      "text/plain": [
       "<matplotlib.axes._subplots.AxesSubplot at 0x7feb9dd636d8>"
      ]
     },
     "execution_count": 120,
     "metadata": {},
     "output_type": "execute_result"
    },
    {
     "data": {
      "image/png": "[encoded data removed]",
      "text/plain": [
       "<Figure size 1080x576 with 2 Axes>"
      ]
     },
     "metadata": {
      "needs_background": "light"
     },
     "output_type": "display_data"
    }
   ],
   "source": [
    "#Correlation between different features of the dataset using heatmap\n",
    "big()\n",
    "sns.heatmap(data.corr(), annot=True)"
   ]
  },
  {
   "cell_type": "code",
   "execution_count": null,
   "metadata": {},
   "outputs": [],
   "source": [
    "#Heatmap is used to find the correlation between different columns of the dataset which can be further used to \n",
    "#derive a meaningful relationship between them by further visualisations.\n",
    "#As per the plot, \"Price and ba\" and \"Price and Sqft\" are most related as per their values.\n",
    "#There is no use of exploring \"Sqft and Zip\" and \"Price and Zip\" as the correlatinal values is in negative."
   ]
  },
  {
   "cell_type": "code",
   "execution_count": 160,
   "metadata": {},
   "outputs": [
    {
     "data": {
      "text/plain": [
       "<matplotlib.axes._subplots.AxesSubplot at 0x7feba03b57f0>"
      ]
     },
     "execution_count": 160,
     "metadata": {},
     "output_type": "execute_result"
    },
    {
     "data": {
      "image/png": "[encoded data removed]",
      "text/plain": [
       "<Figure size 1080x576 with 1 Axes>"
      ]
     },
     "metadata": {
      "needs_background": "light"
     },
     "output_type": "display_data"
    }
   ],
   "source": [
    "#Barplot of Square Feet (Sqft) vs Bedrooms (bds) with respect to Bathroom (ba)\n",
    "big()\n",
    "sns.barplot(x='bds', y='Sqft', data=data, hue='ba', dodge=False)"
   ]
  },
  {
   "cell_type": "code",
   "execution_count": null,
   "metadata": {},
   "outputs": [],
   "source": [
    "#The above barplot helps to analyse the bathroom range available in a particular type of property (with respect to bedrooms) as per the sqft of the property.\n",
    "#The property which have 1 bedroom are available only with 1 bathroom which is around 2500 sqft approx range.\n",
    "#The studios available are only with 1 bathroom and are very small in area around 1000 sqft.\n",
    "#It also shows that the majority of the properties are available under 5000 sqft.\n",
    "#The property with 3 bedrooms has an exceptionally large area of more than 25000 sqft."
   ]
  },
  {
   "cell_type": "code",
   "execution_count": 231,
   "metadata": {},
   "outputs": [
    {
     "data": {
      "text/plain": [
       "[Text(0, 0, 'Jamaica'),\n",
       " Text(0, 0, 'Staten Island'),\n",
       " Text(0, 0, 'Brooklyn'),\n",
       " Text(0, 0, 'Yonkers'),\n",
       " Text(0, 0, 'New York'),\n",
       " Text(0, 0, 'Briarwood'),\n",
       " Text(0, 0, 'Glendale'),\n",
       " Text(0, 0, 'South Ozone Park'),\n",
       " Text(0, 0, 'Bronx'),\n",
       " Text(0, 0, 'Flushing'),\n",
       " Text(0, 0, 'Rego Park'),\n",
       " Text(0, 0, 'Broad Channel'),\n",
       " Text(0, 0, 'Bayside'),\n",
       " Text(0, 0, 'Astoria'),\n",
       " Text(0, 0, 'Saint Albans'),\n",
       " Text(0, 0, 'Fresh Meadows'),\n",
       " Text(0, 0, 'Bellerose Manor'),\n",
       " Text(0, 0, 'Rockaway Park'),\n",
       " Text(0, 0, 'Far Rockaway'),\n",
       " Text(0, 0, 'Queens'),\n",
       " Text(0, 0, 'Howard Beach'),\n",
       " Text(0, 0, 'Belle Harbor'),\n",
       " Text(0, 0, 'Middle Village'),\n",
       " Text(0, 0, 'Corona'),\n",
       " Text(0, 0, 'Forest Hills'),\n",
       " Text(0, 0, 'Long Island City'),\n",
       " Text(0, 0, 'Woodhaven')]"
      ]
     },
     "execution_count": 231,
     "metadata": {},
     "output_type": "execute_result"
    },
    {
     "data": {
      "image/png": "[encoded data removed]",
      "text/plain": [
       "<Figure size 1080x576 with 1 Axes>"
      ]
     },
     "metadata": {
      "needs_background": "light"
     },
     "output_type": "display_data"
    }
   ],
   "source": [
    "#Barplot between City and Price\n",
    "big()\n",
    "barp = sns.barplot(x='City', y='Price', data=data)\n",
    "barp.set_xticklabels(barp.get_xticklabels(), rotation=30, horizontalalignment='right', fontweight='light',\n",
    "    fontsize='x-large')"
   ]
  },
  {
   "cell_type": "code",
   "execution_count": null,
   "metadata": {},
   "outputs": [],
   "source": [
    "#The above plot implies that the costliest property in the New York state is available in Long Island City that costs over $2,000,000.\n",
    "#The cheapest properties a buyer can find are under $500,000 in Cities: Yonkers, Briarwood, Broad Channel, Bellerose Manor, Rockaway Park, Queens, Belle Harbor, Corona and in Woodhaven.\n",
    "#Although there are a few exceptions in some cities where a few properties are more expensive as compared to the overall available properties in the particular city.\n",
    "#For example in Brooklyn, New York, the average properties and the maximum range a buyer can find is around $11,000,000 but there are a two or three properties in both the cities which are around $15,000,000 respectively.\n",
    "#Same case is for some properties in Bayside where the average and maximum range of properties is around $750,000 but in the same city there is a property which costs over $15,000,000 just twice the price of the common real estate properties in the city."
   ]
  },
  {
   "cell_type": "code",
   "execution_count": 225,
   "metadata": {},
   "outputs": [
    {
     "data": {
      "text/plain": [
       "<matplotlib.axes._subplots.AxesSubplot at 0x7feb8b5169e8>"
      ]
     },
     "execution_count": 225,
     "metadata": {},
     "output_type": "execute_result"
    },
    {
     "data": {
      "image/png": "[encoded data removed]",
      "text/plain": [
       "<Figure size 1080x576 with 1 Axes>"
      ]
     },
     "metadata": {
      "needs_background": "light"
     },
     "output_type": "display_data"
    }
   ],
   "source": [
    "#Histogram of column Price\n",
    "big()\n",
    "sns.distplot(data['Price'], bins=100)"
   ]
  },
  {
   "cell_type": "code",
   "execution_count": null,
   "metadata": {},
   "outputs": [],
   "source": [
    "#The above plot gave an insight about the price distribution for the properties across the state New York.\n",
    "#The most number of properties have a price range between $500,000 to $11,000,000.\n",
    "#The range of properties are second highest from $11,000,000 to $20,00,000.\n",
    "#The most expensive properties are very limited in number which have a price approximately more than $25,00,000."
   ]
  },
  {
   "cell_type": "code",
   "execution_count": 222,
   "metadata": {},
   "outputs": [
    {
     "data": {
      "text/plain": [
       "<matplotlib.axes._subplots.AxesSubplot at 0x7feb8ac445f8>"
      ]
     },
     "execution_count": 222,
     "metadata": {},
     "output_type": "execute_result"
    },
    {
     "data": {
      "image/png": "[encoded data removed]",
      "text/plain": [
       "<Figure size 1080x576 with 1 Axes>"
      ]
     },
     "metadata": {
      "needs_background": "light"
     },
     "output_type": "display_data"
    }
   ],
   "source": [
    "#Histogram for column Sqft\n",
    "big()\n",
    "sns.distplot(data['Sqft'], bins=250)"
   ]
  },
  {
   "cell_type": "code",
   "execution_count": null,
   "metadata": {},
   "outputs": [],
   "source": [
    "#The above plot gave an insight about the sqft the properties available across the state New York.\n",
    "#The majority of the properties are available under 5000 sqft area.\n",
    "#There are a few expensive expeptional properties which have an area of more than 10,000 sqft.\n",
    "#Coincidentally the plot resembles the tallest building in the world : Burj Khalifa."
   ]
  },
  {
   "cell_type": "code",
   "execution_count": null,
   "metadata": {},
   "outputs": [],
   "source": [
    "#The outcome of all the exploratory data analysis:\n",
    "#The properties with a particular number of bedrooms and bathroom are available in what range was analysed as well as the squarefeet area the property is build in and how does it vary according to the number of bedrooms and bathrooms in a property. \n",
    "#For example. A customer wants to purchase a property in the New York State with 3 bedrooms and 3 bathrooms, so the ideal price the customer can expect is around $1,000,000 for 5000 sqft. \n",
    "#Here any real estate broker can offer the customer a better deal with more bedrooms and bathrooms available in the same price."
   ]
  },
  {
   "cell_type": "markdown",
   "metadata": {},
   "source": [
    "# Questions about the dataset"
   ]
  },
  {
   "cell_type": "markdown",
   "metadata": {},
   "source": [
    "# Q1. Does the price range vary based on the squarefeet area of the property?"
   ]
  },
  {
   "cell_type": "code",
   "execution_count": 257,
   "metadata": {},
   "outputs": [],
   "source": [
    "#The Sqft value at row 157 i.e. 116270 is creating disruoptions in the graph and is practically not possible. \n",
    "#So removing the value\n",
    "sq = data[data['Sqft'] == 116270]\n",
    "data.drop(sq.index, inplace=True)"
   ]
  },
  {
   "cell_type": "code",
   "execution_count": 262,
   "metadata": {},
   "outputs": [],
   "source": [
    "#The Sqft value at row 9 i.e. 114425 is creating disruoptions in the graph and is practically not possible. \n",
    "#So removing the value\n",
    "sq = data[data['Sqft'] == 14425]\n",
    "data.drop(sq.index, inplace=True)"
   ]
  },
  {
   "cell_type": "code",
   "execution_count": 265,
   "metadata": {},
   "outputs": [
    {
     "data": {
      "text/plain": [
       "<matplotlib.axes._subplots.AxesSubplot at 0x7feb8f9d35c0>"
      ]
     },
     "execution_count": 265,
     "metadata": {},
     "output_type": "execute_result"
    },
    {
     "data": {
      "image/png": "[encoded data removed]",
      "text/plain": [
       "<Figure size 1080x576 with 1 Axes>"
      ]
     },
     "metadata": {
      "needs_background": "light"
     },
     "output_type": "display_data"
    }
   ],
   "source": [
    "#Histogram for updated column Sqft\n",
    "big()\n",
    "sns.distplot(data['Sqft'], bins=200)"
   ]
  },
  {
   "cell_type": "code",
   "execution_count": 302,
   "metadata": {},
   "outputs": [],
   "source": [
    "#To round off the values, For example any value between 1301-1400, 901-1000, the values will be round off to their floor values i.e. 1300, 900 respectively\n",
    "import math\n",
    "def round_sqft(x):\n",
    "    return float(math.floor(x / 100.0)) * 100\n",
    "data['Sqft_new'] = data['Sqft'].apply(round_sqft)"
   ]
  },
  {
   "cell_type": "code",
   "execution_count": 321,
   "metadata": {},
   "outputs": [
    {
     "data": {
      "text/plain": [
       "[Text(0, 0, '300.0'),\n",
       " Text(0, 0, '400.0'),\n",
       " Text(0, 0, '500.0'),\n",
       " Text(0, 0, '600.0'),\n",
       " Text(0, 0, '700.0'),\n",
       " Text(0, 0, '800.0'),\n",
       " Text(0, 0, '900.0'),\n",
       " Text(0, 0, '1000.0'),\n",
       " Text(0, 0, '1100.0'),\n",
       " Text(0, 0, '1200.0'),\n",
       " Text(0, 0, '1300.0'),\n",
       " Text(0, 0, '1400.0'),\n",
       " Text(0, 0, '1500.0'),\n",
       " Text(0, 0, '1600.0'),\n",
       " Text(0, 0, '1700.0'),\n",
       " Text(0, 0, '1800.0'),\n",
       " Text(0, 0, '1900.0'),\n",
       " Text(0, 0, '2000.0'),\n",
       " Text(0, 0, '2100.0'),\n",
       " Text(0, 0, '2200.0'),\n",
       " Text(0, 0, '2300.0'),\n",
       " Text(0, 0, '2400.0'),\n",
       " Text(0, 0, '2500.0'),\n",
       " Text(0, 0, '2600.0'),\n",
       " Text(0, 0, '2700.0'),\n",
       " Text(0, 0, '2800.0'),\n",
       " Text(0, 0, '2900.0'),\n",
       " Text(0, 0, '3000.0'),\n",
       " Text(0, 0, '3100.0'),\n",
       " Text(0, 0, '3200.0'),\n",
       " Text(0, 0, '3300.0'),\n",
       " Text(0, 0, '3400.0'),\n",
       " Text(0, 0, '3500.0'),\n",
       " Text(0, 0, '4200.0'),\n",
       " Text(0, 0, '5500.0')]"
      ]
     },
     "execution_count": 321,
     "metadata": {},
     "output_type": "execute_result"
    },
    {
     "data": {
      "image/png": "[encoded data removed]",
      "text/plain": [
       "<Figure size 1080x576 with 1 Axes>"
      ]
     },
     "metadata": {
      "needs_background": "light"
     },
     "output_type": "display_data"
    }
   ],
   "source": [
    "#Barplot between Price and  Updated Sqft values(Sqft_new)\n",
    "big()\n",
    "new_sqf = sns.barplot(x='Sqft_new', y='Price', data=data)\n",
    "new_sqf.set_xticklabels(new_sqf.get_xticklabels(), rotation=30, horizontalalignment='right', fontweight='light',\n",
    "    fontsize='x-large')"
   ]
  },
  {
   "cell_type": "code",
   "execution_count": null,
   "metadata": {},
   "outputs": [],
   "source": [
    "#Answer 1 : The above plot implies that as the square feet area is increasing, the price of the property is also increasing.\n",
    "#There are some misimplications in the plot, for example the prices of 1800 sqft properties are very low and again the graph is increasing.\n",
    "#The reason behind this is, the location of the property also plays a vital role in the price. In this case, the possible reasons for this misconception can be the property is in a different city where the prices are very cheap or the property is in a area where the prices are very low according to the neighbourhood."
   ]
  },
  {
   "cell_type": "code",
   "execution_count": null,
   "metadata": {},
   "outputs": [],
   "source": []
  },
  {
   "cell_type": "markdown",
   "metadata": {},
   "source": [
    "# Q2. In the most popular city, does the price range vary based on the squarefeet area and the number of bathrooms in the property ?"
   ]
  },
  {
   "cell_type": "code",
   "execution_count": null,
   "metadata": {},
   "outputs": [],
   "source": [
    "#Please Note: Here the popularity of a city depends on the number of available flats in a particular city."
   ]
  },
  {
   "cell_type": "code",
   "execution_count": 322,
   "metadata": {},
   "outputs": [
    {
     "data": {
      "text/plain": [
       "Brooklyn            38\n",
       "Staten Island       26\n",
       "Flushing            15\n",
       "Bronx               14\n",
       "New York            14\n",
       "Jamaica             12\n",
       "Bayside              3\n",
       "Rockaway Park        2\n",
       "Broad Channel        2\n",
       "Howard Beach         2\n",
       "Far Rockaway         2\n",
       "Astoria              1\n",
       "Saint Albans         1\n",
       "Rego Park            1\n",
       "Bellerose Manor      1\n",
       "Corona               1\n",
       "Forest Hills         1\n",
       "Briarwood            1\n",
       "Glendale             1\n",
       "Middle Village       1\n",
       "Woodhaven            1\n",
       "Queens               1\n",
       "Long Island City     1\n",
       "Fresh Meadows        1\n",
       "Belle Harbor         1\n",
       "South Ozone Park     1\n",
       "Yonkers              1\n",
       "Name: City, dtype: int64"
      ]
     },
     "execution_count": 322,
     "metadata": {},
     "output_type": "execute_result"
    }
   ],
   "source": [
    "#The count of properties in each city of the New York state.\n",
    "data['City'].value_counts()"
   ]
  },
  {
   "cell_type": "code",
   "execution_count": null,
   "metadata": {},
   "outputs": [],
   "source": [
    "#The most popular city is Brooklyn as it has the most number of flats available to be sold are there in the complete dataset."
   ]
  },
  {
   "cell_type": "code",
   "execution_count": 327,
   "metadata": {},
   "outputs": [
    {
     "data": {
      "text/plain": [
       "[Text(0, 0, '500.0'),\n",
       " Text(0, 0, '600.0'),\n",
       " Text(0, 0, '700.0'),\n",
       " Text(0, 0, '800.0'),\n",
       " Text(0, 0, '900.0'),\n",
       " Text(0, 0, '1000.0'),\n",
       " Text(0, 0, '1100.0'),\n",
       " Text(0, 0, '1200.0'),\n",
       " Text(0, 0, '1300.0'),\n",
       " Text(0, 0, '1500.0'),\n",
       " Text(0, 0, '1600.0'),\n",
       " Text(0, 0, '1800.0'),\n",
       " Text(0, 0, '2000.0'),\n",
       " Text(0, 0, '2100.0'),\n",
       " Text(0, 0, '2300.0'),\n",
       " Text(0, 0, '2400.0'),\n",
       " Text(0, 0, '2600.0'),\n",
       " Text(0, 0, '3000.0'),\n",
       " Text(0, 0, '3200.0'),\n",
       " Text(0, 0, '3400.0')]"
      ]
     },
     "execution_count": 327,
     "metadata": {},
     "output_type": "execute_result"
    },
    {
     "data": {
      "image/png": "[encoded data removed]",
      "text/plain": [
       "<Figure size 1080x576 with 1 Axes>"
      ]
     },
     "metadata": {
      "needs_background": "light"
     },
     "output_type": "display_data"
    }
   ],
   "source": [
    "#Barplot between Price and  Updated Sqft values(Sqft_new) in Brooklyn\n",
    "big()\n",
    "brk_sqf = sns.barplot(x='Sqft_new', y='Price', data=data[ data['City'] == 'Brooklyn' ], hue='ba')\n",
    "brk_sqf.set_xticklabels(brk_sqf.get_xticklabels(), rotation=30, horizontalalignment='right', fontweight='light',\n",
    "    fontsize='x-large')"
   ]
  },
  {
   "cell_type": "code",
   "execution_count": null,
   "metadata": {},
   "outputs": [],
   "source": [
    "#Answer 2 : The plot implies that as the number of bathrooms in a property increases, the prices of the property increases as the square feet area increases with keeping the location of the area in Brooklyn as a key factor.\n",
    "#The cheapest property available are with 1 bathroom and the area is 500, 600, 700 respectively for price less than $100,000.\n",
    "#The costliest property available has 5 bathrooms and the area of the property is more than 3500 sqft for price over $4,000,000."
   ]
  },
  {
   "cell_type": "code",
   "execution_count": null,
   "metadata": {},
   "outputs": [],
   "source": []
  },
  {
   "cell_type": "markdown",
   "metadata": {},
   "source": [
    "# Q3. Does the average property price of the top 5 popular cities vary?"
   ]
  },
  {
   "cell_type": "code",
   "execution_count": 336,
   "metadata": {},
   "outputs": [
    {
     "data": {
      "text/plain": [
       "['Brooklyn', 'Staten Island', 'Flushing', 'Bronx', 'New York']"
      ]
     },
     "execution_count": 336,
     "metadata": {},
     "output_type": "execute_result"
    }
   ],
   "source": [
    "#Get the top 5 cities in a list which have the most number of properties on sale.\n",
    "popular = data['City'].value_counts()[:5].index.tolist()\n",
    "popular"
   ]
  },
  {
   "cell_type": "code",
   "execution_count": 427,
   "metadata": {},
   "outputs": [],
   "source": [
    "#Creating a new dataframe \n",
    "avg_df = pd.DataFrame(columns = ['Top Cities', 'Average Price'])\n",
    "avg_df['Top Cities'] = popular"
   ]
  },
  {
   "cell_type": "code",
   "execution_count": 433,
   "metadata": {},
   "outputs": [],
   "source": [
    "#Storing average price values in the new dataframe with respect to their cities\n",
    "j=0\n",
    "for i in popular: \n",
    "    avg_df['Average Price'][j] = data[data['City'] == i]['Price'].mean()\n",
    "    j = j + 1"
   ]
  },
  {
   "cell_type": "code",
   "execution_count": 434,
   "metadata": {},
   "outputs": [
    {
     "data": {
      "text/html": [
       "<div>\n",
       "<style scoped>\n",
       "    .dataframe tbody tr th:only-of-type {\n",
       "        vertical-align: middle;\n",
       "    }\n",
       "\n",
       "    .dataframe tbody tr th {\n",
       "        vertical-align: top;\n",
       "    }\n",
       "\n",
       "    .dataframe thead th {\n",
       "        text-align: right;\n",
       "    }\n",
       "</style>\n",
       "<table border=\"1\" class=\"dataframe\">\n",
       "  <thead>\n",
       "    <tr style=\"text-align: right;\">\n",
       "      <th></th>\n",
       "      <th>Top Cities</th>\n",
       "      <th>Average Price</th>\n",
       "    </tr>\n",
       "  </thead>\n",
       "  <tbody>\n",
       "    <tr>\n",
       "      <th>0</th>\n",
       "      <td>Brooklyn</td>\n",
       "      <td>1.09583e+06</td>\n",
       "    </tr>\n",
       "    <tr>\n",
       "      <th>1</th>\n",
       "      <td>Staten Island</td>\n",
       "      <td>733937</td>\n",
       "    </tr>\n",
       "    <tr>\n",
       "      <th>2</th>\n",
       "      <td>Flushing</td>\n",
       "      <td>930198</td>\n",
       "    </tr>\n",
       "    <tr>\n",
       "      <th>3</th>\n",
       "      <td>Bronx</td>\n",
       "      <td>647386</td>\n",
       "    </tr>\n",
       "    <tr>\n",
       "      <th>4</th>\n",
       "      <td>New York</td>\n",
       "      <td>1.16585e+06</td>\n",
       "    </tr>\n",
       "  </tbody>\n",
       "</table>\n",
       "</div>"
      ],
      "text/plain": [
       "      Top Cities Average Price\n",
       "0       Brooklyn   1.09583e+06\n",
       "1  Staten Island        733937\n",
       "2       Flushing        930198\n",
       "3          Bronx        647386\n",
       "4       New York   1.16585e+06"
      ]
     },
     "execution_count": 434,
     "metadata": {},
     "output_type": "execute_result"
    }
   ],
   "source": [
    "avg_df"
   ]
  },
  {
   "cell_type": "code",
   "execution_count": 454,
   "metadata": {},
   "outputs": [
    {
     "data": {
      "text/plain": [
       "<matplotlib.axes._subplots.AxesSubplot at 0x7feb72afbe10>"
      ]
     },
     "execution_count": 454,
     "metadata": {},
     "output_type": "execute_result"
    },
    {
     "data": {
      "image/png": "[encoded data removed]",
      "text/plain": [
       "<Figure size 432x288 with 1 Axes>"
      ]
     },
     "metadata": {
      "needs_background": "light"
     },
     "output_type": "display_data"
    }
   ],
   "source": [
    "#Basic Bar plot\n",
    "avg_df.plot(kind = \"bar\", y = \"Average Price\", legend = False,\n",
    "            title = \"Average Prices\")"
   ]
  },
  {
   "cell_type": "code",
   "execution_count": null,
   "metadata": {},
   "outputs": [],
   "source": [
    "#Answer 3 : All the cities are expensive to live in but New Year won the race of the expensive appartments followed by Brooklyn.\n",
    "#Only these two cities have average price of appartments over $1,000,000.\n",
    "#Flushing city has an averge of $900,000.\n",
    "#Number 4 and number 5 on the rank list cities have a close average that is, $730,000 and $650,000.\n",
    "#A person trying to move to a new city can choose Bronx city to live in as it is popular and good for a person with a demad of liveble city at a tight property purchasing budget.\n"
   ]
  },
  {
   "cell_type": "code",
   "execution_count": null,
   "metadata": {},
   "outputs": [],
   "source": []
  },
  {
   "cell_type": "markdown",
   "metadata": {},
   "source": [
    "# Summary"
   ]
  },
  {
   "cell_type": "code",
   "execution_count": null,
   "metadata": {},
   "outputs": [],
   "source": [
    "#There are many points which can be analysed from the above data analysis of the New York Real Estate analytics:\n",
    "#1. The pricing of the property depends on the features, location and city it's situated in.\n",
    "#2. New York is the most expensive city to live in the whole state.\n",
    "#3. Brooklyn is not only the second most expensive city to live in, but also have many popularity than New York."
   ]
  },
  {
   "cell_type": "code",
   "execution_count": null,
   "metadata": {},
   "outputs": [],
   "source": []
  },
  {
   "cell_type": "markdown",
   "metadata": {},
   "source": [
    "# Future Work"
   ]
  },
  {
   "cell_type": "code",
   "execution_count": null,
   "metadata": {},
   "outputs": [],
   "source": [
    "#future work\n",
    "#When a new property is in the market to be sold, the estimated price can be find using the above analysis and data, based on the features of the property and the location where the property is situated.\n",
    "#An algorithm can also be build to analyse whether the person who wants to sold the property at a price is valid or if he/she is trying to sold at a higher price than the actual price that the property can be based on the analysis of the surrounding and other similar featured properties."
   ]
  }
 ],
 "metadata": {
  "kernelspec": {
   "display_name": "Python 3",
   "language": "python",
   "name": "python3"
  },
  "language_info": {
   "codemirror_mode": {
    "name": "ipython",
    "version": 3
   },
   "file_extension": ".py",
   "mimetype": "text/x-python",
   "name": "python",
   "nbconvert_exporter": "python",
   "pygments_lexer": "ipython3",
   "version": "3.7.0"
  }
 },
 "nbformat": 4,
 "nbformat_minor": 2
}
